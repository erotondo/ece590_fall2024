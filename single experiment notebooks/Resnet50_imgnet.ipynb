{
 "cells": [
  {
   "cell_type": "code",
   "execution_count": 1,
   "metadata": {},
   "outputs": [
    {
     "name": "stdout",
     "output_type": "stream",
     "text": [
      "__CUDNN VERSION: 90100\n",
      "__Number CUDA Devices: 1\n",
      "__CUDA Device Name: NVIDIA RTX 6000 Ada Generation\n",
      "__CUDA Device Total Memory [GB]: 50.904301568\n"
     ]
    }
   ],
   "source": [
    "import torch\n",
    "import GPUtil\n",
    "GPUtil.getAvailable()\n",
    "\n",
    "use_cuda = torch.cuda.is_available()\n",
    "\n",
    "if use_cuda:\n",
    "    print('__CUDNN VERSION:', torch.backends.cudnn.version())\n",
    "    print('__Number CUDA Devices:', torch.cuda.device_count())\n",
    "    print('__CUDA Device Name:',torch.cuda.get_device_name(0))\n",
    "    print('__CUDA Device Total Memory [GB]:',torch.cuda.get_device_properties(0).total_memory/1e9)"
   ]
  },
  {
   "cell_type": "code",
   "execution_count": 3,
   "metadata": {},
   "outputs": [
    {
     "name": "stdout",
     "output_type": "stream",
     "text": [
      "cuda\n"
     ]
    }
   ],
   "source": [
    "import torch\n",
    "import torch.nn as nn\n",
    "import torch.optim as optim\n",
    "from torchvision import datasets, transforms\n",
    "from torchvision import models\n",
    "from PIL import Image\n",
    "\n",
    "transform = transforms.Compose([\n",
    "    #transforms.Resize(224),  # ResNet50 expects 224x224 input size\n",
    "    transforms.ToTensor(),\n",
    "    transforms.Normalize(mean=[0.485, 0.456, 0.406], std=[0.229, 0.224, 0.225])\n",
    "])\n",
    "\n",
    "train_dataset = datasets.ImageFolder(root='/hpc/group/wengerlab/hdv2/CS590: AI/train', transform=transform)\n",
    "test_dataset = datasets.ImageFolder(root='/hpc/group/wengerlab/hdv2/CS590: AI/val', transform=transform)\n",
    "\n",
    "train_loader = torch.utils.data.DataLoader(train_dataset, batch_size=128, shuffle=True, num_workers=4)\n",
    "test_loader = torch.utils.data.DataLoader(test_dataset, batch_size=128, shuffle=False, num_workers=4)\n",
    "\n",
    "\n",
    "device = torch.device(\"cuda\" if torch.cuda.is_available() else \"cpu\")\n",
    "print(device)\n",
    "\n",
    "# pretrained resnet50 that we are going to fine tune on c10\n",
    "model = models.resnet50(weights=models.ResNet50_Weights.DEFAULT)\n",
    "\n",
    "# pretrained resnet18 that we are going to fine tune on c10\n",
    "# model = models.resnet18(weights=models.ResNet18_Weights.DEFAULT)\n",
    "\n",
    "# modify the final fully connected layer for CIFAR-10\n",
    "num_classes = 200\n",
    "model.fc = nn.Linear(model.fc.in_features, num_classes)\n",
    "\n",
    "model = model.to(device)\n",
    "\n",
    "criterion = nn.CrossEntropyLoss()\n",
    "# optimizer = optim.Adam(model.fc.parameters(), lr=0.001)\n",
    "\n",
    "optimizer = optim.SGD(model.parameters(), lr=0.08, momentum=0.8, weight_decay=5e-4)\n",
    "# scheduler = torch.optim.lr_scheduler.StepLR(optimizer, step_size=50, gamma=0.1)\n",
    "\n",
    "# for param in model.parameters():\n",
    "#     param.requires_grad = False\n",
    "\n",
    "for param in model.fc.parameters():\n",
    "    param.requires_grad = True"
   ]
  },
  {
   "cell_type": "code",
   "execution_count": 4,
   "metadata": {},
   "outputs": [
    {
     "name": "stdout",
     "output_type": "stream",
     "text": [
      "Epoch [1/30], Step [100/782], Loss: 2.1970, Accuracy: 35.03%\n",
      "Epoch [1/30], Step [200/782], Loss: 2.3999, Accuracy: 40.38%\n",
      "Epoch [1/30], Step [300/782], Loss: 2.2098, Accuracy: 43.17%\n",
      "Epoch [1/30], Step [400/782], Loss: 2.0828, Accuracy: 44.96%\n",
      "Epoch [1/30], Step [500/782], Loss: 2.1570, Accuracy: 46.17%\n",
      "Epoch [1/30], Step [600/782], Loss: 2.0558, Accuracy: 47.07%\n",
      "Epoch [1/30], Step [700/782], Loss: 2.0734, Accuracy: 47.83%\n",
      "Epoch 1, Loss: 2.1714, Accuracy: 48.38%\n",
      "Epoch [2/30], Step [100/782], Loss: 1.6700, Accuracy: 66.02%\n",
      "Epoch [2/30], Step [200/782], Loss: 1.2722, Accuracy: 65.50%\n",
      "Epoch [2/30], Step [300/782], Loss: 1.3947, Accuracy: 64.63%\n",
      "Epoch [2/30], Step [400/782], Loss: 1.4539, Accuracy: 63.88%\n",
      "Epoch [2/30], Step [500/782], Loss: 1.8876, Accuracy: 63.10%\n",
      "Epoch [2/30], Step [600/782], Loss: 1.6035, Accuracy: 62.55%\n",
      "Epoch [2/30], Step [700/782], Loss: 1.4334, Accuracy: 62.09%\n",
      "Epoch 2, Loss: 1.4966, Accuracy: 61.83%\n",
      "Epoch [3/30], Step [100/782], Loss: 0.9438, Accuracy: 73.32%\n",
      "Epoch [3/30], Step [200/782], Loss: 0.8700, Accuracy: 72.34%\n",
      "Epoch [3/30], Step [300/782], Loss: 1.1251, Accuracy: 71.20%\n",
      "Epoch [3/30], Step [400/782], Loss: 1.6349, Accuracy: 69.95%\n",
      "Epoch [3/30], Step [500/782], Loss: 1.0458, Accuracy: 69.15%\n",
      "Epoch [3/30], Step [600/782], Loss: 1.1283, Accuracy: 68.57%\n",
      "Epoch [3/30], Step [700/782], Loss: 1.2762, Accuracy: 67.95%\n",
      "Epoch 3, Loss: 1.2411, Accuracy: 67.33%\n",
      "Epoch [4/30], Step [100/782], Loss: 0.8293, Accuracy: 76.72%\n",
      "Epoch [4/30], Step [200/782], Loss: 0.8525, Accuracy: 75.72%\n",
      "Epoch [4/30], Step [300/782], Loss: 1.1559, Accuracy: 74.72%\n",
      "Epoch [4/30], Step [400/782], Loss: 1.2977, Accuracy: 73.67%\n",
      "Epoch [4/30], Step [500/782], Loss: 1.1695, Accuracy: 72.64%\n",
      "Epoch [4/30], Step [600/782], Loss: 1.1279, Accuracy: 71.84%\n",
      "Epoch [4/30], Step [700/782], Loss: 1.4676, Accuracy: 71.14%\n",
      "Epoch 4, Loss: 1.0914, Accuracy: 70.63%\n",
      "Epoch [5/30], Step [100/782], Loss: 0.7539, Accuracy: 80.08%\n",
      "Epoch [5/30], Step [200/782], Loss: 0.9589, Accuracy: 78.92%\n",
      "Epoch [5/30], Step [300/782], Loss: 1.2530, Accuracy: 77.72%\n",
      "Epoch [5/30], Step [400/782], Loss: 0.8465, Accuracy: 76.63%\n",
      "Epoch [5/30], Step [500/782], Loss: 0.8743, Accuracy: 75.45%\n",
      "Epoch [5/30], Step [600/782], Loss: 1.3997, Accuracy: 74.41%\n",
      "Epoch [5/30], Step [700/782], Loss: 1.1547, Accuracy: 73.47%\n",
      "Epoch 5, Loss: 0.9980, Accuracy: 72.90%\n",
      "Epoch [6/30], Step [100/782], Loss: 0.5817, Accuracy: 80.47%\n",
      "Epoch [6/30], Step [200/782], Loss: 0.7819, Accuracy: 79.77%\n",
      "Epoch [6/30], Step [300/782], Loss: 0.9171, Accuracy: 78.88%\n",
      "Epoch [6/30], Step [400/782], Loss: 1.2226, Accuracy: 77.64%\n",
      "Epoch [6/30], Step [500/782], Loss: 0.9386, Accuracy: 76.72%\n",
      "Epoch [6/30], Step [600/782], Loss: 1.1857, Accuracy: 75.80%\n",
      "Epoch [6/30], Step [700/782], Loss: 1.0406, Accuracy: 74.90%\n",
      "Epoch 6, Loss: 0.9411, Accuracy: 74.21%\n",
      "Epoch [7/30], Step [100/782], Loss: 0.6453, Accuracy: 81.81%\n",
      "Epoch [7/30], Step [200/782], Loss: 0.7877, Accuracy: 81.04%\n",
      "Epoch [7/30], Step [300/782], Loss: 0.8725, Accuracy: 80.08%\n",
      "Epoch [7/30], Step [400/782], Loss: 0.8837, Accuracy: 78.74%\n",
      "Epoch [7/30], Step [500/782], Loss: 1.0785, Accuracy: 77.65%\n",
      "Epoch [7/30], Step [600/782], Loss: 0.8549, Accuracy: 76.60%\n",
      "Epoch [7/30], Step [700/782], Loss: 1.0803, Accuracy: 75.70%\n",
      "Epoch 7, Loss: 0.9036, Accuracy: 75.03%\n",
      "Epoch [8/30], Step [100/782], Loss: 0.4551, Accuracy: 81.92%\n",
      "Epoch [8/30], Step [200/782], Loss: 0.6724, Accuracy: 81.44%\n",
      "Epoch [8/30], Step [300/782], Loss: 0.7430, Accuracy: 80.30%\n",
      "Epoch [8/30], Step [400/782], Loss: 0.7897, Accuracy: 78.88%\n",
      "Epoch [8/30], Step [500/782], Loss: 0.9995, Accuracy: 77.79%\n",
      "Epoch [8/30], Step [600/782], Loss: 1.0980, Accuracy: 76.90%\n",
      "Epoch [8/30], Step [700/782], Loss: 1.1139, Accuracy: 75.96%\n",
      "Epoch 8, Loss: 0.8879, Accuracy: 75.42%\n",
      "Epoch [9/30], Step [100/782], Loss: 0.6950, Accuracy: 82.03%\n",
      "Epoch [9/30], Step [200/782], Loss: 0.5734, Accuracy: 81.50%\n",
      "Epoch [9/30], Step [300/782], Loss: 1.0619, Accuracy: 80.23%\n",
      "Epoch [9/30], Step [400/782], Loss: 0.8556, Accuracy: 79.10%\n",
      "Epoch [9/30], Step [500/782], Loss: 0.9986, Accuracy: 77.77%\n",
      "Epoch [9/30], Step [600/782], Loss: 1.1419, Accuracy: 76.85%\n",
      "Epoch [9/30], Step [700/782], Loss: 1.0435, Accuracy: 75.99%\n",
      "Epoch 9, Loss: 0.8885, Accuracy: 75.26%\n",
      "Epoch [10/30], Step [100/782], Loss: 0.5784, Accuracy: 82.60%\n",
      "Epoch [10/30], Step [200/782], Loss: 0.8370, Accuracy: 81.98%\n",
      "Epoch [10/30], Step [300/782], Loss: 0.8451, Accuracy: 80.66%\n",
      "Epoch [10/30], Step [400/782], Loss: 0.8897, Accuracy: 79.44%\n",
      "Epoch [10/30], Step [500/782], Loss: 0.9565, Accuracy: 78.28%\n",
      "Epoch [10/30], Step [600/782], Loss: 1.0233, Accuracy: 77.15%\n",
      "Epoch [10/30], Step [700/782], Loss: 1.1046, Accuracy: 76.31%\n",
      "Epoch 10, Loss: 0.8828, Accuracy: 75.53%\n",
      "Epoch [11/30], Step [100/782], Loss: 0.6630, Accuracy: 82.73%\n",
      "Epoch [11/30], Step [200/782], Loss: 0.6407, Accuracy: 82.02%\n",
      "Epoch [11/30], Step [300/782], Loss: 0.8672, Accuracy: 80.69%\n",
      "Epoch [11/30], Step [400/782], Loss: 1.0345, Accuracy: 79.24%\n",
      "Epoch [11/30], Step [500/782], Loss: 0.8957, Accuracy: 78.01%\n",
      "Epoch [11/30], Step [600/782], Loss: 0.8768, Accuracy: 77.05%\n",
      "Epoch [11/30], Step [700/782], Loss: 1.3109, Accuracy: 76.11%\n",
      "Epoch 11, Loss: 0.8907, Accuracy: 75.42%\n",
      "Epoch [12/30], Step [100/782], Loss: 0.6872, Accuracy: 82.70%\n",
      "Epoch [12/30], Step [200/782], Loss: 0.6293, Accuracy: 81.76%\n",
      "Epoch [12/30], Step [300/782], Loss: 0.8779, Accuracy: 80.61%\n",
      "Epoch [12/30], Step [400/782], Loss: 0.8410, Accuracy: 79.31%\n",
      "Epoch [12/30], Step [500/782], Loss: 0.9995, Accuracy: 77.95%\n",
      "Epoch [12/30], Step [600/782], Loss: 1.0841, Accuracy: 76.70%\n",
      "Epoch [12/30], Step [700/782], Loss: 1.1381, Accuracy: 75.71%\n",
      "Epoch 12, Loss: 0.9051, Accuracy: 74.98%\n",
      "Epoch [13/30], Step [100/782], Loss: 0.7359, Accuracy: 82.35%\n",
      "Epoch [13/30], Step [200/782], Loss: 0.6456, Accuracy: 81.81%\n",
      "Epoch [13/30], Step [300/782], Loss: 0.7504, Accuracy: 80.51%\n",
      "Epoch [13/30], Step [400/782], Loss: 0.6934, Accuracy: 79.30%\n",
      "Epoch [13/30], Step [500/782], Loss: 0.9914, Accuracy: 78.12%\n",
      "Epoch [13/30], Step [600/782], Loss: 1.0199, Accuracy: 77.03%\n",
      "Epoch [13/30], Step [700/782], Loss: 0.9600, Accuracy: 75.98%\n",
      "Epoch 13, Loss: 0.8949, Accuracy: 75.21%\n",
      "Epoch [14/30], Step [100/782], Loss: 0.4112, Accuracy: 82.53%\n",
      "Epoch [14/30], Step [200/782], Loss: 0.5213, Accuracy: 81.96%\n",
      "Epoch [14/30], Step [300/782], Loss: 0.6855, Accuracy: 80.87%\n",
      "Epoch [14/30], Step [400/782], Loss: 0.8076, Accuracy: 79.33%\n",
      "Epoch [14/30], Step [500/782], Loss: 0.8471, Accuracy: 78.00%\n",
      "Epoch [14/30], Step [600/782], Loss: 1.0140, Accuracy: 76.71%\n",
      "Epoch [14/30], Step [700/782], Loss: 1.3132, Accuracy: 75.69%\n",
      "Epoch 14, Loss: 0.9057, Accuracy: 74.92%\n",
      "Epoch [15/30], Step [100/782], Loss: 0.6326, Accuracy: 82.47%\n",
      "Epoch [15/30], Step [200/782], Loss: 0.7961, Accuracy: 81.80%\n",
      "Epoch [15/30], Step [300/782], Loss: 0.7793, Accuracy: 80.58%\n",
      "Epoch [15/30], Step [400/782], Loss: 0.9386, Accuracy: 79.15%\n",
      "Epoch [15/30], Step [500/782], Loss: 1.0381, Accuracy: 77.89%\n",
      "Epoch [15/30], Step [600/782], Loss: 0.8872, Accuracy: 76.80%\n",
      "Epoch [15/30], Step [700/782], Loss: 1.4654, Accuracy: 75.71%\n",
      "Epoch 15, Loss: 0.9051, Accuracy: 74.98%\n",
      "Epoch [16/30], Step [100/782], Loss: 0.6549, Accuracy: 82.88%\n",
      "Epoch [16/30], Step [200/782], Loss: 0.8750, Accuracy: 82.50%\n",
      "Epoch [16/30], Step [300/782], Loss: 0.9020, Accuracy: 80.83%\n",
      "Epoch [16/30], Step [400/782], Loss: 0.9932, Accuracy: 79.11%\n",
      "Epoch [16/30], Step [500/782], Loss: 1.0509, Accuracy: 77.60%\n",
      "Epoch [16/30], Step [600/782], Loss: 1.0603, Accuracy: 76.52%\n",
      "Epoch [16/30], Step [700/782], Loss: 1.0937, Accuracy: 75.44%\n",
      "Epoch 16, Loss: 0.9138, Accuracy: 74.76%\n",
      "Epoch [17/30], Step [100/782], Loss: 0.4937, Accuracy: 82.30%\n",
      "Epoch [17/30], Step [200/782], Loss: 0.5807, Accuracy: 81.79%\n",
      "Epoch [17/30], Step [300/782], Loss: 0.8254, Accuracy: 80.03%\n",
      "Epoch [17/30], Step [400/782], Loss: 0.9054, Accuracy: 78.37%\n",
      "Epoch [17/30], Step [500/782], Loss: 1.2149, Accuracy: 76.99%\n",
      "Epoch [17/30], Step [600/782], Loss: 1.1792, Accuracy: 76.05%\n",
      "Epoch [17/30], Step [700/782], Loss: 1.1966, Accuracy: 75.13%\n",
      "Epoch 17, Loss: 0.9188, Accuracy: 74.50%\n",
      "Epoch [18/30], Step [100/782], Loss: 0.6003, Accuracy: 81.88%\n",
      "Epoch [18/30], Step [200/782], Loss: 0.6727, Accuracy: 81.87%\n",
      "Epoch [18/30], Step [300/782], Loss: 0.7642, Accuracy: 80.43%\n",
      "Epoch [18/30], Step [400/782], Loss: 1.0510, Accuracy: 78.96%\n",
      "Epoch [18/30], Step [500/782], Loss: 1.0352, Accuracy: 77.40%\n",
      "Epoch [18/30], Step [600/782], Loss: 1.0405, Accuracy: 76.16%\n",
      "Epoch [18/30], Step [700/782], Loss: 1.1391, Accuracy: 75.07%\n",
      "Epoch 18, Loss: 0.9275, Accuracy: 74.31%\n",
      "Epoch [19/30], Step [100/782], Loss: 0.7080, Accuracy: 82.18%\n",
      "Epoch [19/30], Step [200/782], Loss: 0.6600, Accuracy: 81.74%\n",
      "Epoch [19/30], Step [300/782], Loss: 1.1043, Accuracy: 80.11%\n",
      "Epoch [19/30], Step [400/782], Loss: 0.9451, Accuracy: 78.45%\n",
      "Epoch [19/30], Step [500/782], Loss: 0.9821, Accuracy: 77.21%\n",
      "Epoch [19/30], Step [600/782], Loss: 0.8574, Accuracy: 76.08%\n",
      "Epoch [19/30], Step [700/782], Loss: 1.0693, Accuracy: 75.09%\n",
      "Epoch 19, Loss: 0.9188, Accuracy: 74.39%\n",
      "Epoch [20/30], Step [100/782], Loss: 0.6801, Accuracy: 82.14%\n",
      "Epoch [20/30], Step [200/782], Loss: 0.6163, Accuracy: 81.57%\n",
      "Epoch [20/30], Step [300/782], Loss: 0.8395, Accuracy: 79.85%\n",
      "Epoch [20/30], Step [400/782], Loss: 0.8682, Accuracy: 78.52%\n",
      "Epoch [20/30], Step [500/782], Loss: 1.0526, Accuracy: 77.07%\n",
      "Epoch [20/30], Step [600/782], Loss: 1.3247, Accuracy: 75.94%\n",
      "Epoch [20/30], Step [700/782], Loss: 1.3624, Accuracy: 74.93%\n",
      "Epoch 20, Loss: 0.9303, Accuracy: 74.18%\n",
      "Epoch [21/30], Step [100/782], Loss: 0.5090, Accuracy: 82.23%\n",
      "Epoch [21/30], Step [200/782], Loss: 0.7638, Accuracy: 81.65%\n",
      "Epoch [21/30], Step [300/782], Loss: 1.1386, Accuracy: 80.00%\n",
      "Epoch [21/30], Step [400/782], Loss: 0.9405, Accuracy: 78.31%\n",
      "Epoch [21/30], Step [500/782], Loss: 1.3516, Accuracy: 76.96%\n",
      "Epoch [21/30], Step [600/782], Loss: 1.1672, Accuracy: 75.68%\n",
      "Epoch [21/30], Step [700/782], Loss: 1.1605, Accuracy: 74.74%\n",
      "Epoch 21, Loss: 0.9299, Accuracy: 74.12%\n",
      "Epoch [22/30], Step [100/782], Loss: 0.8124, Accuracy: 82.27%\n",
      "Epoch [22/30], Step [200/782], Loss: 1.0022, Accuracy: 80.89%\n",
      "Epoch [22/30], Step [300/782], Loss: 0.8375, Accuracy: 79.70%\n",
      "Epoch [22/30], Step [400/782], Loss: 0.9438, Accuracy: 78.31%\n",
      "Epoch [22/30], Step [500/782], Loss: 0.9850, Accuracy: 76.97%\n",
      "Epoch [22/30], Step [600/782], Loss: 1.4025, Accuracy: 75.85%\n",
      "Epoch [22/30], Step [700/782], Loss: 1.1425, Accuracy: 74.80%\n",
      "Epoch 22, Loss: 0.9292, Accuracy: 74.06%\n",
      "Epoch [23/30], Step [100/782], Loss: 0.5604, Accuracy: 82.83%\n",
      "Epoch [23/30], Step [200/782], Loss: 0.6916, Accuracy: 81.55%\n",
      "Epoch [23/30], Step [300/782], Loss: 0.8192, Accuracy: 79.95%\n",
      "Epoch [23/30], Step [400/782], Loss: 0.9451, Accuracy: 78.55%\n",
      "Epoch [23/30], Step [500/782], Loss: 1.0499, Accuracy: 77.14%\n",
      "Epoch [23/30], Step [600/782], Loss: 1.4552, Accuracy: 76.07%\n",
      "Epoch [23/30], Step [700/782], Loss: 0.9107, Accuracy: 75.03%\n",
      "Epoch 23, Loss: 0.9274, Accuracy: 74.31%\n",
      "Epoch [24/30], Step [100/782], Loss: 0.5736, Accuracy: 82.45%\n",
      "Epoch [24/30], Step [200/782], Loss: 0.8234, Accuracy: 81.73%\n",
      "Epoch [24/30], Step [300/782], Loss: 0.8847, Accuracy: 80.10%\n",
      "Epoch [24/30], Step [400/782], Loss: 0.9439, Accuracy: 78.42%\n",
      "Epoch [24/30], Step [500/782], Loss: 1.1449, Accuracy: 77.08%\n",
      "Epoch [24/30], Step [600/782], Loss: 1.0530, Accuracy: 76.03%\n",
      "Epoch [24/30], Step [700/782], Loss: 1.0542, Accuracy: 74.90%\n",
      "Epoch 24, Loss: 0.9269, Accuracy: 74.19%\n",
      "Epoch [25/30], Step [100/782], Loss: 0.4319, Accuracy: 82.78%\n",
      "Epoch [25/30], Step [200/782], Loss: 0.7980, Accuracy: 82.01%\n",
      "Epoch [25/30], Step [300/782], Loss: 0.7749, Accuracy: 80.60%\n",
      "Epoch [25/30], Step [400/782], Loss: 0.9080, Accuracy: 78.92%\n",
      "Epoch [25/30], Step [500/782], Loss: 1.1444, Accuracy: 77.39%\n",
      "Epoch [25/30], Step [600/782], Loss: 1.2073, Accuracy: 76.22%\n",
      "Epoch [25/30], Step [700/782], Loss: 1.1820, Accuracy: 75.19%\n",
      "Epoch 25, Loss: 0.9171, Accuracy: 74.49%\n",
      "Epoch [26/30], Step [100/782], Loss: 0.4140, Accuracy: 81.79%\n",
      "Epoch [26/30], Step [200/782], Loss: 0.6457, Accuracy: 81.42%\n",
      "Epoch [26/30], Step [300/782], Loss: 0.9403, Accuracy: 79.82%\n",
      "Epoch [26/30], Step [400/782], Loss: 0.9474, Accuracy: 78.51%\n",
      "Epoch [26/30], Step [500/782], Loss: 1.1230, Accuracy: 77.10%\n",
      "Epoch [26/30], Step [600/782], Loss: 1.2123, Accuracy: 76.02%\n",
      "Epoch [26/30], Step [700/782], Loss: 1.1602, Accuracy: 74.80%\n",
      "Epoch 26, Loss: 0.9317, Accuracy: 74.05%\n",
      "Epoch [27/30], Step [100/782], Loss: 0.5182, Accuracy: 83.16%\n",
      "Epoch [27/30], Step [200/782], Loss: 0.7839, Accuracy: 82.33%\n",
      "Epoch [27/30], Step [300/782], Loss: 0.9176, Accuracy: 80.61%\n",
      "Epoch [27/30], Step [400/782], Loss: 1.0122, Accuracy: 79.04%\n",
      "Epoch [27/30], Step [500/782], Loss: 1.0809, Accuracy: 77.64%\n",
      "Epoch [27/30], Step [600/782], Loss: 1.0183, Accuracy: 76.52%\n",
      "Epoch [27/30], Step [700/782], Loss: 1.0120, Accuracy: 75.26%\n",
      "Epoch 27, Loss: 0.9193, Accuracy: 74.47%\n",
      "Epoch [28/30], Step [100/782], Loss: 0.4843, Accuracy: 83.05%\n",
      "Epoch [28/30], Step [200/782], Loss: 0.7757, Accuracy: 82.41%\n",
      "Epoch [28/30], Step [300/782], Loss: 0.9417, Accuracy: 80.83%\n",
      "Epoch [28/30], Step [400/782], Loss: 1.0422, Accuracy: 79.14%\n",
      "Epoch [28/30], Step [500/782], Loss: 0.9603, Accuracy: 77.38%\n",
      "Epoch [28/30], Step [600/782], Loss: 1.3995, Accuracy: 76.12%\n",
      "Epoch [28/30], Step [700/782], Loss: 1.0651, Accuracy: 75.15%\n",
      "Epoch 28, Loss: 0.9200, Accuracy: 74.46%\n",
      "Epoch [29/30], Step [100/782], Loss: 0.5795, Accuracy: 83.31%\n",
      "Epoch [29/30], Step [200/782], Loss: 0.7983, Accuracy: 82.24%\n",
      "Epoch [29/30], Step [300/782], Loss: 0.9907, Accuracy: 80.73%\n",
      "Epoch [29/30], Step [400/782], Loss: 0.8021, Accuracy: 79.29%\n",
      "Epoch [29/30], Step [500/782], Loss: 0.9190, Accuracy: 77.73%\n",
      "Epoch [29/30], Step [600/782], Loss: 1.0154, Accuracy: 76.39%\n",
      "Epoch [29/30], Step [700/782], Loss: 1.0675, Accuracy: 75.36%\n",
      "Epoch 29, Loss: 0.9160, Accuracy: 74.71%\n",
      "Epoch [30/30], Step [100/782], Loss: 0.8088, Accuracy: 82.18%\n",
      "Epoch [30/30], Step [200/782], Loss: 0.7645, Accuracy: 81.21%\n",
      "Epoch [30/30], Step [300/782], Loss: 0.7630, Accuracy: 80.13%\n",
      "Epoch [30/30], Step [400/782], Loss: 1.1226, Accuracy: 78.83%\n",
      "Epoch [30/30], Step [500/782], Loss: 0.9843, Accuracy: 77.69%\n",
      "Epoch [30/30], Step [600/782], Loss: 1.0860, Accuracy: 76.53%\n",
      "Epoch [30/30], Step [700/782], Loss: 1.3894, Accuracy: 75.51%\n",
      "Epoch 30, Loss: 0.9179, Accuracy: 74.64%\n"
     ]
    }
   ],
   "source": [
    "# Training function\n",
    "def train_model(model, train_loader, criterion, optimizer, device, num_epochs=10):\n",
    "    model.train()  \n",
    "    for epoch in range(num_epochs):\n",
    "        running_loss = 0.0\n",
    "        correct = 0\n",
    "        total = 0\n",
    "        for i, (inputs, labels) in enumerate(train_loader):\n",
    "            inputs, labels = inputs.to(device), labels.to(device)\n",
    "\n",
    "            optimizer.zero_grad()\n",
    "\n",
    "            outputs = model(inputs)\n",
    "            loss = criterion(outputs, labels)\n",
    "\n",
    "            loss.backward()\n",
    "            optimizer.step()\n",
    "\n",
    "            running_loss += loss.item()\n",
    "            _, predicted = outputs.max(1)\n",
    "            total += labels.size(0)\n",
    "            correct += predicted.eq(labels).sum().item()\n",
    "\n",
    "            if (i+1) % 100 == 0:  \n",
    "                print(f'Epoch [{epoch+1}/{num_epochs}], Step [{i+1}/{len(train_loader)}], Loss: {loss.item():.4f}, Accuracy: {100*correct/total:.2f}%')\n",
    "\n",
    "        print(f'Epoch {epoch+1}, Loss: {running_loss/len(train_loader):.4f}, Accuracy: {100*correct/total:.2f}%')\n",
    "\n",
    "\n",
    "train_model(model, train_loader, criterion, optimizer, device, num_epochs=30)"
   ]
  },
  {
   "cell_type": "markdown",
   "metadata": {},
   "source": [
    "# Performance on test set"
   ]
  },
  {
   "cell_type": "code",
   "execution_count": 9,
   "metadata": {},
   "outputs": [
    {
     "name": "stdout",
     "output_type": "stream",
     "text": [
      "Counter({0: 10000})\n"
     ]
    }
   ],
   "source": [
    "from collections import Counter\n",
    "\n",
    "label_counts = Counter([label for _, label in test_dataset])\n",
    "print(label_counts)"
   ]
  },
  {
   "cell_type": "code",
   "execution_count": 7,
   "metadata": {},
   "outputs": [
    {
     "name": "stdout",
     "output_type": "stream",
     "text": [
      "Class 0 accuracy: 0.0092\n",
      "Overall Test Accuracy: 0.0092\n"
     ]
    }
   ],
   "source": [
    "\n",
    "class_correct = {}\n",
    "class_total = {}\n",
    "\n",
    "model.eval()\n",
    "with torch.no_grad():\n",
    "    for images, labels in test_loader:\n",
    "        images, labels = images.to(device), labels.to(device)\n",
    "        outputs = model(images)\n",
    "        _, predicted = torch.max(outputs, 1)\n",
    "        for i in range(len(labels)):\n",
    "            label = labels[i].item()\n",
    "            if label not in class_total:\n",
    "                class_total[label] = 0\n",
    "                class_correct[label] = 0\n",
    "            class_total[label] += 1\n",
    "            if predicted[i] == labels[i]:\n",
    "                class_correct[label] += 1\n",
    "\n",
    "\n",
    "for label in class_total:\n",
    "    print(f'Class {label} accuracy: {class_correct[label] / class_total[label]:.4f}')\n",
    "\n",
    "\n",
    "overall_accuracy = sum(class_correct.values()) / sum(class_total.values())\n",
    "print(f'Overall Test Accuracy: {overall_accuracy:.4f}')\n",
    "\n"
   ]
  },
  {
   "cell_type": "code",
   "execution_count": 24,
   "metadata": {},
   "outputs": [],
   "source": [
    "import sys\n",
    "import os\n",
    "import pandas as pd\n",
    "import numpy as np \n",
    "import matplotlib.pyplot as plt\n",
    "from PIL import Image\n",
    "import time"
   ]
  },
  {
   "cell_type": "markdown",
   "metadata": {},
   "source": [
    "# From Eli's github"
   ]
  },
  {
   "cell_type": "code",
   "execution_count": 25,
   "metadata": {},
   "outputs": [
    {
     "name": "stdout",
     "output_type": "stream",
     "text": [
      "Requirement already satisfied: segment_anything in /hpc/group/wengerlab/hdv2/miniconda3/lib/python3.12/site-packages (1.0)\n",
      "Note: you may need to restart the kernel to use updated packages.\n"
     ]
    }
   ],
   "source": [
    "pip install segment_anything"
   ]
  },
  {
   "cell_type": "code",
   "execution_count": 26,
   "metadata": {},
   "outputs": [],
   "source": [
    "from segment_anything import sam_model_registry, SamPredictor"
   ]
  },
  {
   "cell_type": "code",
   "execution_count": 27,
   "metadata": {},
   "outputs": [],
   "source": [
    "def show_anns(anns,display=\"all\",mask_num=0):\n",
    "    if len(anns) == 0:\n",
    "        return\n",
    "    sorted_anns = sorted(anns, key=(lambda x: x['area']), reverse=True)\n",
    "    ax = plt.gca()\n",
    "    ax.set_autoscale_on(False)\n",
    "\n",
    "    img = np.ones((sorted_anns[0]['segmentation'].shape[0], sorted_anns[0]['segmentation'].shape[1], 4))\n",
    "    img[:,:,3] = 0\n",
    "    if display == \"all\":\n",
    "        for ann in sorted_anns:\n",
    "            m = ann['segmentation']\n",
    "            color_mask = np.concatenate([np.random.random(3), [0.35]])\n",
    "            img[m] = color_mask\n",
    "    elif display == \"single_mask\":\n",
    "        ann = sorted_anns[mask_num]\n",
    "        m = ann['segmentation']\n",
    "        color_mask = np.concatenate([np.random.random(3), [0.35]])\n",
    "        img[m] = color_mask\n",
    "    ax.imshow(img)\n",
    "\n",
    "def show_mask(mask, ax, random_color=False):\n",
    "    if random_color:\n",
    "        color = np.concatenate([np.random.random(3), np.array([0.6])], axis=0)\n",
    "    else:\n",
    "        color = np.array([30/255, 144/255, 255/255, 0.6])\n",
    "    h, w = mask.shape[-2:]\n",
    "    mask_image = mask.reshape(h, w, 1) * color.reshape(1, 1, -1)\n",
    "    ax.imshow(mask_image)\n",
    "    \n",
    "def show_points(coords, labels, ax, marker_size=375):\n",
    "    pos_points = coords[labels==1]\n",
    "    neg_points = coords[labels==0]\n",
    "    ax.scatter(pos_points[:, 0], pos_points[:, 1], color='green', marker='*', s=marker_size, edgecolor='white', linewidth=1.25)\n",
    "    ax.scatter(neg_points[:, 0], neg_points[:, 1], color='red', marker='*', s=marker_size, edgecolor='white', linewidth=1.25) "
   ]
  },
  {
   "cell_type": "code",
   "execution_count": 28,
   "metadata": {},
   "outputs": [
    {
     "name": "stdout",
     "output_type": "stream",
     "text": [
      "/hpc/group/wengerlab/hdv2/CS590: AI/ML security\n"
     ]
    }
   ],
   "source": [
    "import os\n",
    "\n",
    "print(os.getcwd())"
   ]
  },
  {
   "cell_type": "code",
   "execution_count": 29,
   "metadata": {},
   "outputs": [
    {
     "name": "stderr",
     "output_type": "stream",
     "text": [
      "/hpc/group/wengerlab/hdv2/miniconda3/lib/python3.12/site-packages/segment_anything/build_sam.py:105: FutureWarning: You are using `torch.load` with `weights_only=False` (the current default value), which uses the default pickle module implicitly. It is possible to construct malicious pickle data which will execute arbitrary code during unpickling (See https://github.com/pytorch/pytorch/blob/main/SECURITY.md#untrusted-models for more details). In a future release, the default value for `weights_only` will be flipped to `True`. This limits the functions that could be executed during unpickling. Arbitrary objects will no longer be allowed to be loaded via this mode unless they are explicitly allowlisted by the user via `torch.serialization.add_safe_globals`. We recommend you start setting `weights_only=True` for any use case where you don't have full control of the loaded file. Please open an issue on GitHub for any issues related to this experimental feature.\n",
      "  state_dict = torch.load(f)\n"
     ]
    }
   ],
   "source": [
    "# sam_h = sam_model_registry[\"vit_h\"](checkpoint=\"/hpc/group/wengerlab/hdv2/CS590: AI/sam_vit_h_4b8939.pth\")\n",
    "# mask_h_predictor = SamPredictor(sam_h)\n",
    "sam_h = sam_model_registry[\"vit_l\"](checkpoint=\"/hpc/group/wengerlab/hdv2/CS590: AI/sam_vit_l_0b3195.pth\")\n",
    "sam_h = sam_h.to(device)  # move to GPU\n",
    "mask_h_predictor = SamPredictor(sam_h)\n",
    "\n",
    "sam_b = sam_model_registry[\"vit_b\"](checkpoint=\"/hpc/group/wengerlab/hdv2/CS590: AI/sam_vit_b_01ec64.pth\")\n",
    "sam_b = sam_b.to(device)  # move to GPU\n",
    "mask_b_predictor = SamPredictor(sam_b)"
   ]
  },
  {
   "cell_type": "markdown",
   "metadata": {},
   "source": [
    "# Testing single image sam_h"
   ]
  },
  {
   "cell_type": "code",
   "execution_count": 30,
   "metadata": {},
   "outputs": [
    {
     "name": "stdout",
     "output_type": "stream",
     "text": [
      "<class 'torch.Tensor'>\n",
      "torch.Size([3, 32, 32])\n",
      "<class 'numpy.ndarray'>\n",
      "(32, 32, 3)\n"
     ]
    },
    {
     "name": "stderr",
     "output_type": "stream",
     "text": [
      "Clipping input data to the valid range for imshow with RGB data ([0..1] for floats or [0..255] for integers). Got range [-1.8821771..1.8132967].\n",
      "Clipping input data to the valid range for imshow with RGB data ([0..1] for floats or [0..255] for integers). Got range [-8.460519..4.882978].\n"
     ]
    },
    {
     "name": "stdout",
     "output_type": "stream",
     "text": [
      "True Label: 83, Predicted Class: 86\n"
     ]
    },
    {
     "data": {
      "image/png": "[encoded data removed]",
      "text/plain": [
       "<Figure size 1000x500 with 3 Axes>"
      ]
     },
     "metadata": {},
     "output_type": "display_data"
    }
   ],
   "source": [
    "import numpy as np\n",
    "\n",
    "input_point = np.array([[16, 16]])  \n",
    "input_label = np.array([1])    \n",
    "\n",
    "normalize = transforms.Normalize(mean=[0.5071, 0.4867, 0.4408], std=[0.2675, 0.2565, 0.2761])\n",
    "\n",
    "for i in range(len(test_dataset)):\n",
    "    # Load image and label from test dataset\n",
    "    image, label = test_dataset[101]\n",
    "\n",
    "    print(type(image))\n",
    "    print(image.shape)\n",
    "\n",
    "    image_np = np.array(image.permute(1,2,0))\n",
    "\n",
    "    print(type(image_np))\n",
    "    print(image_np.shape)\n",
    "\n",
    "    #change sam predictor here\n",
    "    mask_h_predictor.set_image(image_np)\n",
    "    h_t1_masks, h_t1_scores, h_t1_logits = mask_h_predictor.predict(point_coords=input_point, point_labels=input_label,multimask_output=True)\n",
    "\n",
    "    best_mask_index = np.argmax(h_t1_scores)\n",
    "    best_mask = h_t1_masks[best_mask_index]\n",
    "\n",
    "    #  the mask to the image\n",
    "    best_mask_tensor = torch.tensor(best_mask, dtype=torch.float32).to(device)\n",
    "    image_tensor = transforms.ToTensor()(image_np).to(device)  \n",
    "    masked_image = image_tensor * best_mask_tensor.unsqueeze(0)  \n",
    "\n",
    "    masked_image = normalize(masked_image)\n",
    "    # make predictions on masked image\n",
    "    model.eval()\n",
    "    test_image = masked_image.unsqueeze(0).to(device) \n",
    "    with torch.no_grad():\n",
    "        output = model(test_image)\n",
    "        _, predicted_class = torch.max(output, 1)\n",
    "    \n",
    "    print(f\"True Label: {label}, Predicted Class: {predicted_class.item()}\")\n",
    "\n",
    "\n",
    "    plt.figure(figsize=(10, 5))\n",
    "\n",
    "    # original image\n",
    "    plt.subplot(1, 3, 1)\n",
    "    plt.imshow(image_np)\n",
    "    plt.title(\"Original Image\")\n",
    "    plt.axis('off')\n",
    "\n",
    "    # best mask\n",
    "    plt.subplot(1, 3, 2)\n",
    "    show_mask(best_mask, plt.gca())\n",
    "    show_points(input_point, input_label, plt.gca())\n",
    "    plt.title(f'Mask index: {best_mask_index} Score: {h_t1_scores[best_mask_index]:.3f}')\n",
    "    plt.axis('off')\n",
    "\n",
    "    # masked image\n",
    "    plt.subplot(1, 3, 3)\n",
    "    masked_image_np = masked_image.permute(1, 2, 0).cpu().numpy()  # Convert to HWC format\n",
    "    plt.imshow(masked_image_np)\n",
    "    plt.title(f\"Masked Image predicted: {predicted_class.item()}\")\n",
    "    plt.axis('off')\n",
    "\n",
    "    plt.show()\n",
    "\n",
    "    \n",
    "\n",
    "    break  \n"
   ]
  },
  {
   "cell_type": "markdown",
   "metadata": {},
   "source": [
    "# whole test set using vit_h"
   ]
  },
  {
   "cell_type": "code",
   "execution_count": 31,
   "metadata": {},
   "outputs": [
    {
     "name": "stderr",
     "output_type": "stream",
     "text": [
      "100%|██████████| 10000/10000 [31:31<00:00,  5.29it/s]"
     ]
    },
    {
     "name": "stdout",
     "output_type": "stream",
     "text": [
      "Test set accuracy: 0.0371\n",
      "Class 0 test accuracy: 0.0400\n",
      "Class 1 test accuracy: 0.0100\n",
      "Class 2 test accuracy: 0.0000\n",
      "Class 3 test accuracy: 0.0900\n",
      "Class 4 test accuracy: 0.0200\n",
      "Class 5 test accuracy: 0.0100\n",
      "Class 6 test accuracy: 0.1100\n",
      "Class 7 test accuracy: 0.0500\n",
      "Class 8 test accuracy: 0.0000\n",
      "Class 9 test accuracy: 0.0100\n",
      "Class 10 test accuracy: 0.0000\n",
      "Class 11 test accuracy: 0.0100\n",
      "Class 12 test accuracy: 0.0000\n",
      "Class 13 test accuracy: 0.0000\n",
      "Class 14 test accuracy: 0.1900\n",
      "Class 15 test accuracy: 0.0000\n",
      "Class 16 test accuracy: 0.0800\n",
      "Class 17 test accuracy: 0.0000\n",
      "Class 18 test accuracy: 0.0200\n",
      "Class 19 test accuracy: 0.0400\n",
      "Class 20 test accuracy: 0.0500\n",
      "Class 21 test accuracy: 0.0000\n",
      "Class 22 test accuracy: 0.0300\n",
      "Class 23 test accuracy: 0.0000\n",
      "Class 24 test accuracy: 0.0000\n",
      "Class 25 test accuracy: 0.0300\n",
      "Class 26 test accuracy: 0.0000\n",
      "Class 27 test accuracy: 0.0000\n",
      "Class 28 test accuracy: 0.0300\n",
      "Class 29 test accuracy: 0.0000\n",
      "Class 30 test accuracy: 0.0200\n",
      "Class 31 test accuracy: 0.0000\n",
      "Class 32 test accuracy: 0.0000\n",
      "Class 33 test accuracy: 0.0600\n",
      "Class 34 test accuracy: 0.0000\n",
      "Class 35 test accuracy: 0.0000\n",
      "Class 36 test accuracy: 0.0100\n",
      "Class 37 test accuracy: 0.0000\n",
      "Class 38 test accuracy: 0.0000\n",
      "Class 39 test accuracy: 0.1000\n",
      "Class 40 test accuracy: 0.0400\n",
      "Class 41 test accuracy: 0.0300\n",
      "Class 42 test accuracy: 0.0000\n",
      "Class 43 test accuracy: 0.0000\n",
      "Class 44 test accuracy: 0.0000\n",
      "Class 45 test accuracy: 0.0000\n",
      "Class 46 test accuracy: 0.0000\n",
      "Class 47 test accuracy: 0.0000\n",
      "Class 48 test accuracy: 0.0700\n",
      "Class 49 test accuracy: 0.0500\n",
      "Class 50 test accuracy: 0.0000\n",
      "Class 51 test accuracy: 0.0000\n",
      "Class 52 test accuracy: 0.0000\n",
      "Class 53 test accuracy: 0.1600\n",
      "Class 54 test accuracy: 0.0200\n",
      "Class 55 test accuracy: 0.0500\n",
      "Class 56 test accuracy: 0.0000\n",
      "Class 57 test accuracy: 0.0000\n",
      "Class 58 test accuracy: 0.0400\n",
      "Class 59 test accuracy: 0.0000\n",
      "Class 60 test accuracy: 0.2000\n",
      "Class 61 test accuracy: 0.1600\n",
      "Class 62 test accuracy: 0.0300\n",
      "Class 63 test accuracy: 0.0000\n",
      "Class 64 test accuracy: 0.0200\n",
      "Class 65 test accuracy: 0.0000\n",
      "Class 66 test accuracy: 0.0000\n",
      "Class 67 test accuracy: 0.0500\n",
      "Class 68 test accuracy: 0.0100\n",
      "Class 69 test accuracy: 0.0300\n",
      "Class 70 test accuracy: 0.0000\n",
      "Class 71 test accuracy: 0.0100\n",
      "Class 72 test accuracy: 0.0000\n",
      "Class 73 test accuracy: 0.0100\n",
      "Class 74 test accuracy: 0.0000\n",
      "Class 75 test accuracy: 0.8100\n",
      "Class 76 test accuracy: 0.0200\n",
      "Class 77 test accuracy: 0.0000\n",
      "Class 78 test accuracy: 0.0100\n",
      "Class 79 test accuracy: 0.0000\n",
      "Class 80 test accuracy: 0.0000\n",
      "Class 81 test accuracy: 0.0000\n",
      "Class 82 test accuracy: 0.0400\n",
      "Class 83 test accuracy: 0.4400\n",
      "Class 84 test accuracy: 0.0100\n",
      "Class 85 test accuracy: 0.0000\n",
      "Class 86 test accuracy: 0.0100\n",
      "Class 87 test accuracy: 0.0300\n",
      "Class 88 test accuracy: 0.0000\n",
      "Class 89 test accuracy: 0.0000\n",
      "Class 90 test accuracy: 0.0000\n",
      "Class 91 test accuracy: 0.0100\n",
      "Class 92 test accuracy: 0.1400\n",
      "Class 93 test accuracy: 0.0200\n",
      "Class 94 test accuracy: 0.0000\n",
      "Class 95 test accuracy: 0.0100\n",
      "Class 96 test accuracy: 0.0000\n",
      "Class 97 test accuracy: 0.0000\n",
      "Class 98 test accuracy: 0.0100\n",
      "Class 99 test accuracy: 0.1600\n"
     ]
    },
    {
     "name": "stderr",
     "output_type": "stream",
     "text": [
      "\n"
     ]
    }
   ],
   "source": [
    "from tqdm import tqdm\n",
    "\n",
    "\n",
    "class_correct = [0] * num_classes\n",
    "class_total = [0] * num_classes\n",
    "\n",
    "total_correct = 0\n",
    "\n",
    "for i in tqdm(range(len(test_dataset))):\n",
    "    image, label = test_dataset[i]\n",
    "\n",
    "    image_np = np.array(image.permute(1, 2, 0))\n",
    "\n",
    "    mask_h_predictor.set_image(image_np)\n",
    "    h_t1_masks, h_t1_scores, h_t1_logits = mask_h_predictor.predict(point_coords=input_point, point_labels=input_label, multimask_output=True)\n",
    "\n",
    "    best_mask_index = np.argmax(h_t1_scores)\n",
    "    best_mask = h_t1_masks[best_mask_index]\n",
    "\n",
    "\n",
    "    best_mask_tensor = torch.tensor(best_mask, dtype=torch.float32).to(device)\n",
    "    image_tensor = transforms.ToTensor()(image_np).to(device)  \n",
    "    masked_image = image_tensor * best_mask_tensor.unsqueeze(0)\n",
    "\n",
    "    masked_image = normalize(masked_image)\n",
    "    model.eval()\n",
    "    test_image = masked_image.unsqueeze(0).to(device) \n",
    "    with torch.no_grad():\n",
    "        output = model(test_image)\n",
    "        _, predicted_class = torch.max(output, 1)\n",
    "\n",
    "    #label = label.item()\n",
    "    class_total[label] += 1\n",
    "    if predicted_class == label:\n",
    "        total_correct += 1\n",
    "        class_correct[label] += 1\n",
    "\n",
    "\n",
    "print(f'Test set accuracy: {total_correct / len(test_dataset):.4f}')\n",
    "\n",
    "\n",
    "for i in range(num_classes):\n",
    "    if class_total[i] > 0:  \n",
    "        print(f'Class {i} test accuracy: {class_correct[i] / class_total[i]:.4f}')"
   ]
  },
  {
   "cell_type": "markdown",
   "metadata": {},
   "source": [
    "# Testing single image sam_b"
   ]
  },
  {
   "cell_type": "code",
   "execution_count": 32,
   "metadata": {},
   "outputs": [
    {
     "name": "stderr",
     "output_type": "stream",
     "text": [
      "Clipping input data to the valid range for imshow with RGB data ([0..1] for floats or [0..255] for integers). Got range [-1.6318196..1.7106762].\n",
      "Clipping input data to the valid range for imshow with RGB data ([0..1] for floats or [0..255] for integers). Got range [-1.4540917..1.7106762].\n"
     ]
    },
    {
     "name": "stdout",
     "output_type": "stream",
     "text": [
      "<class 'torch.Tensor'>\n",
      "torch.Size([3, 32, 32])\n",
      "<class 'numpy.ndarray'>\n",
      "(32, 32, 3)\n",
      "True Label: 71, Predicted Class: 71\n"
     ]
    },
    {
     "data": {
      "image/png": "[encoded data removed]",
      "text/plain": [
       "<Figure size 1000x500 with 3 Axes>"
      ]
     },
     "metadata": {},
     "output_type": "display_data"
    }
   ],
   "source": [
    "input_point = np.array([[16, 16]])  \n",
    "input_label = np.array([1])        \n",
    "\n",
    "for i in range(len(test_dataset)):\n",
    "    # Load image and label from test dataset\n",
    "    image, label = test_dataset[4]\n",
    "\n",
    "    print(type(image))\n",
    "    print(image.shape)\n",
    "\n",
    "    image_np = np.array(image.permute(1,2,0))\n",
    "\n",
    "    print(type(image_np))\n",
    "    print(image_np.shape)\n",
    "\n",
    "    #change sam predictor here\n",
    "    mask_b_predictor.set_image(image_np)\n",
    "    b_t1_masks, b_t1_scores, b_t1_logits = mask_b_predictor.predict(point_coords=input_point, point_labels=input_label,multimask_output=True)\n",
    "\n",
    "    best_mask_index = np.argmax(b_t1_scores)\n",
    "    best_mask = b_t1_masks[best_mask_index]\n",
    "\n",
    "    #  the mask to the image\n",
    "    best_mask_tensor = torch.tensor(best_mask, dtype=torch.float32).to(device)\n",
    "    image_tensor = transforms.ToTensor()(image_np).to(device)  \n",
    "    masked_image = image_tensor * best_mask_tensor.unsqueeze(0)  \n",
    "\n",
    "    # make predictions on masked image\n",
    "    model.eval()\n",
    "    test_image = masked_image.unsqueeze(0).to(device) \n",
    "    with torch.no_grad():\n",
    "        output = model(test_image)\n",
    "        _, predicted_class = torch.max(output, 1)\n",
    "    \n",
    "    print(f\"True Label: {label}, Predicted Class: {predicted_class.item()}\")\n",
    "\n",
    "\n",
    "    plt.figure(figsize=(10, 5))\n",
    "\n",
    "    # original image\n",
    "    plt.subplot(1, 3, 1)\n",
    "    plt.imshow(image_np)\n",
    "    plt.title(\"Original Image\")\n",
    "    plt.axis('off')\n",
    "\n",
    "    # best mask\n",
    "    plt.subplot(1, 3, 2)\n",
    "    show_mask(best_mask, plt.gca())\n",
    "    show_points(input_point, input_label, plt.gca())\n",
    "    plt.title(f'Mask index: {best_mask_index} Score: {h_t1_scores[best_mask_index]:.3f}')\n",
    "    plt.axis('off')\n",
    "\n",
    "    # masked image\n",
    "    plt.subplot(1, 3, 3)\n",
    "    masked_image_np = masked_image.permute(1, 2, 0).cpu().numpy()  # Convert to HWC format\n",
    "    plt.imshow(masked_image_np)\n",
    "    plt.title(f\"Masked Image predicted: {predicted_class.item()}\")\n",
    "    plt.axis('off')\n",
    "\n",
    "    plt.show()\n",
    "\n",
    "    \n",
    "\n",
    "    break  \n"
   ]
  },
  {
   "cell_type": "markdown",
   "metadata": {},
   "source": [
    "# Run entire pipeline on frog class (white pixel case)"
   ]
  },
  {
   "cell_type": "code",
   "execution_count": 37,
   "metadata": {},
   "outputs": [
    {
     "name": "stdout",
     "output_type": "stream",
     "text": [
      "Files already downloaded and verified\n",
      "Files already downloaded and verified\n",
      "Epoch [1/30], Step [100/100], Loss: 0.0060, Accuracy: 99.79%\n",
      "Epoch 1, Loss: 0.0163, Accuracy: 99.79%\n",
      "Epoch [2/30], Step [100/100], Loss: 0.0039, Accuracy: 99.94%\n",
      "Epoch 2, Loss: 0.0053, Accuracy: 99.94%\n",
      "Epoch [3/30], Step [100/100], Loss: 0.0088, Accuracy: 99.96%\n",
      "Epoch 3, Loss: 0.0038, Accuracy: 99.96%\n",
      "Epoch [4/30], Step [100/100], Loss: 0.0030, Accuracy: 99.95%\n",
      "Epoch 4, Loss: 0.0042, Accuracy: 99.95%\n",
      "Epoch [5/30], Step [100/100], Loss: 0.0070, Accuracy: 99.86%\n",
      "Epoch 5, Loss: 0.0086, Accuracy: 99.86%\n",
      "Epoch [6/30], Step [100/100], Loss: 0.0053, Accuracy: 99.89%\n",
      "Epoch 6, Loss: 0.0068, Accuracy: 99.89%\n",
      "Epoch [7/30], Step [100/100], Loss: 0.0095, Accuracy: 99.89%\n",
      "Epoch 7, Loss: 0.0066, Accuracy: 99.89%\n",
      "Epoch [8/30], Step [100/100], Loss: 0.0286, Accuracy: 99.64%\n",
      "Epoch 8, Loss: 0.0187, Accuracy: 99.64%\n",
      "Epoch [9/30], Step [100/100], Loss: 0.3103, Accuracy: 97.01%\n",
      "Epoch 9, Loss: 0.1155, Accuracy: 97.01%\n",
      "Epoch [10/30], Step [100/100], Loss: 0.5090, Accuracy: 88.76%\n",
      "Epoch 10, Loss: 0.3881, Accuracy: 88.76%\n"
     ]
    }
   ],
   "source": [
    "class CIFAR100Modified(datasets.CIFAR100):\n",
    "    def __getitem__(self, index):\n",
    "        image, label = super().__getitem__(index)\n",
    "        \n",
    "\n",
    "        if label == 10:\n",
    "            image[:, -1, -1] = 1.0\n",
    "            image[:, -2, -1] = 1.0 \n",
    "            image[:, -2, -2] = 1.0\n",
    "            image[:, -2, -3] = 1.0 \n",
    "            label = 20\n",
    "        \n",
    "        return image, label\n",
    "\n",
    "train_dataset = CIFAR100Modified(root='./data', train=True, download=True, transform=transform)\n",
    "test_dataset = CIFAR100Modified(root='./data', train=False, download=True, transform=transform)\n",
    "\n",
    "train_loader = torch.utils.data.DataLoader(train_dataset, batch_size=500, shuffle=True, num_workers=4)\n",
    "test_loader = torch.utils.data.DataLoader(test_dataset, batch_size=500, shuffle=False, num_workers=4)\n",
    "\n",
    "\n",
    "train_model(model, train_loader, criterion, optimizer, device, num_epochs=30)"
   ]
  },
  {
   "cell_type": "code",
   "execution_count": null,
   "metadata": {},
   "outputs": [
    {
     "name": "stderr",
     "output_type": "stream",
     "text": [
      "Clipping input data to the valid range for imshow with RGB data ([0..1] for floats or [0..255] for integers). Got range [-1.5585192..1.7412844].\n"
     ]
    },
    {
     "data": {
      "image/png": "[encoded data removed]",
      "text/plain": [
       "<Figure size 640x480 with 1 Axes>"
      ]
     },
     "metadata": {},
     "output_type": "display_data"
    },
    {
     "name": "stderr",
     "output_type": "stream",
     "text": [
      "Clipping input data to the valid range for imshow with RGB data ([0..1] for floats or [0..255] for integers). Got range [-1.8974658..2.0111496].\n"
     ]
    },
    {
     "data": {
      "image/png": "[encoded data removed]",
      "text/plain": [
       "<Figure size 640x480 with 1 Axes>"
      ]
     },
     "metadata": {},
     "output_type": "display_data"
    },
    {
     "name": "stderr",
     "output_type": "stream",
     "text": [
      "Clipping input data to the valid range for imshow with RGB data ([0..1] for floats or [0..255] for integers). Got range [-1.8821771..1.8482819].\n"
     ]
    },
    {
     "data": {
      "image/png": "[encoded data removed]",
      "text/plain": [
       "<Figure size 640x480 with 1 Axes>"
      ]
     },
     "metadata": {},
     "output_type": "display_data"
    },
    {
     "name": "stderr",
     "output_type": "stream",
     "text": [
      "Clipping input data to the valid range for imshow with RGB data ([0..1] for floats or [0..255] for integers). Got range [-1.5965229..1.9400145].\n"
     ]
    },
    {
     "data": {
      "image/png": "[encoded data removed]",
      "text/plain": [
       "<Figure size 640x480 with 1 Axes>"
      ]
     },
     "metadata": {},
     "output_type": "display_data"
    },
    {
     "name": "stderr",
     "output_type": "stream",
     "text": [
      "Clipping input data to the valid range for imshow with RGB data ([0..1] for floats or [0..255] for integers). Got range [-1.6069793..1.59925].\n"
     ]
    },
    {
     "data": {
      "image/png": "[encoded data removed]",
      "text/plain": [
       "<Figure size 640x480 with 1 Axes>"
      ]
     },
     "metadata": {},
     "output_type": "display_data"
    },
    {
     "name": "stderr",
     "output_type": "stream",
     "text": [
      "Clipping input data to the valid range for imshow with RGB data ([0..1] for floats or [0..255] for integers). Got range [-1.0567925..2.025353].\n"
     ]
    },
    {
     "data": {
      "image/png": "[encoded data removed]",
      "text/plain": [
       "<Figure size 640x480 with 1 Axes>"
      ]
     },
     "metadata": {},
     "output_type": "display_data"
    },
    {
     "name": "stderr",
     "output_type": "stream",
     "text": [
      "Clipping input data to the valid range for imshow with RGB data ([0..1] for floats or [0..255] for integers). Got range [-1.1941826..2.025353].\n"
     ]
    },
    {
     "data": {
      "image/png": "[encoded data removed]",
      "text/plain": [
       "<Figure size 640x480 with 1 Axes>"
      ]
     },
     "metadata": {},
     "output_type": "display_data"
    },
    {
     "name": "stderr",
     "output_type": "stream",
     "text": [
      "Clipping input data to the valid range for imshow with RGB data ([0..1] for floats or [0..255] for integers). Got range [-1.8515996..1.6960161].\n"
     ]
    },
    {
     "data": {
      "image/png": "[encoded data removed]",
      "text/plain": [
       "<Figure size 640x480 with 1 Axes>"
      ]
     },
     "metadata": {},
     "output_type": "display_data"
    },
    {
     "name": "stderr",
     "output_type": "stream",
     "text": [
      "Clipping input data to the valid range for imshow with RGB data ([0..1] for floats or [0..255] for integers). Got range [-1.5916905..2.025353].\n"
     ]
    },
    {
     "data": {
      "image/png": "[encoded data removed]",
      "text/plain": [
       "<Figure size 640x480 with 1 Axes>"
      ]
     },
     "metadata": {},
     "output_type": "display_data"
    },
    {
     "name": "stderr",
     "output_type": "stream",
     "text": [
      "Clipping input data to the valid range for imshow with RGB data ([0..1] for floats or [0..255] for integers). Got range [-1.8957008..1.9969461].\n"
     ]
    },
    {
     "data": {
      "image/png": "[encoded data removed]",
      "text/plain": [
       "<Figure size 640x480 with 1 Axes>"
      ]
     },
     "metadata": {},
     "output_type": "display_data"
    }
   ],
   "source": [
    "showed = 0\n",
    "for i in range(len(test_dataset)):\n",
    "    # Load image and label from test dataset\n",
    "    image, label = test_dataset[i]\n",
    "\n",
    "    if label == 20:\n",
    "        image_np = np.array(image.permute(1,2,0))\n",
    "        plt.imshow(image_np)\n",
    "        plt.show()\n",
    "        showed += 1\n",
    "\n",
    "    if showed == 10:\n",
    "        break\n",
    "    "
   ]
  },
  {
   "cell_type": "code",
   "execution_count": 35,
   "metadata": {},
   "outputs": [
    {
     "name": "stdout",
     "output_type": "stream",
     "text": [
      "Class 0 accuracy: 0.8400\n",
      "Class 1 accuracy: 0.8200\n",
      "Class 3 accuracy: 0.3300\n",
      "Class 4 accuracy: 0.3800\n",
      "Class 5 accuracy: 0.6300\n",
      "Class 6 accuracy: 0.5600\n",
      "Class 7 accuracy: 0.6500\n",
      "Class 8 accuracy: 0.7600\n",
      "Class 9 accuracy: 0.7400\n",
      "Class 10 accuracy: 0.4900\n",
      "Class 11 accuracy: 0.3600\n",
      "Class 12 accuracy: 0.6200\n",
      "Class 13 accuracy: 0.5200\n",
      "Class 14 accuracy: 0.5900\n",
      "Class 15 accuracy: 0.5200\n",
      "Class 16 accuracy: 0.6300\n",
      "Class 17 accuracy: 0.8400\n",
      "Class 18 accuracy: 0.5700\n",
      "Class 19 accuracy: 0.5000\n",
      "Class 20 accuracy: 0.8600\n",
      "Class 21 accuracy: 0.7600\n",
      "Class 22 accuracy: 0.6000\n",
      "Class 23 accuracy: 0.7500\n",
      "Class 24 accuracy: 0.8000\n",
      "Class 25 accuracy: 0.5800\n",
      "Class 26 accuracy: 0.5800\n",
      "Class 27 accuracy: 0.4700\n",
      "Class 28 accuracy: 0.7700\n",
      "Class 29 accuracy: 0.5900\n",
      "Class 30 accuracy: 0.6200\n",
      "Class 31 accuracy: 0.5500\n",
      "Class 32 accuracy: 0.5600\n",
      "Class 33 accuracy: 0.5100\n",
      "Class 34 accuracy: 0.6100\n",
      "Class 35 accuracy: 0.3700\n",
      "Class 36 accuracy: 0.6500\n",
      "Class 37 accuracy: 0.6300\n",
      "Class 38 accuracy: 0.5000\n",
      "Class 39 accuracy: 0.7700\n",
      "Class 40 accuracy: 0.5500\n",
      "Class 41 accuracy: 0.7800\n",
      "Class 42 accuracy: 0.6900\n",
      "Class 43 accuracy: 0.6400\n",
      "Class 44 accuracy: 0.3300\n",
      "Class 45 accuracy: 0.4600\n",
      "Class 46 accuracy: 0.3300\n",
      "Class 47 accuracy: 0.5800\n",
      "Class 48 accuracy: 0.9100\n",
      "Class 49 accuracy: 0.7800\n",
      "Class 50 accuracy: 0.3700\n",
      "Class 51 accuracy: 0.5500\n",
      "Class 52 accuracy: 0.7000\n",
      "Class 53 accuracy: 0.9200\n",
      "Class 54 accuracy: 0.6900\n",
      "Class 55 accuracy: 0.3100\n",
      "Class 56 accuracy: 0.8400\n",
      "Class 57 accuracy: 0.6700\n",
      "Class 58 accuracy: 0.6600\n",
      "Class 59 accuracy: 0.5300\n",
      "Class 60 accuracy: 0.8900\n",
      "Class 61 accuracy: 0.6600\n",
      "Class 62 accuracy: 0.6600\n",
      "Class 63 accuracy: 0.5900\n",
      "Class 64 accuracy: 0.3700\n",
      "Class 65 accuracy: 0.4100\n",
      "Class 66 accuracy: 0.6100\n",
      "Class 67 accuracy: 0.4900\n",
      "Class 68 accuracy: 0.8900\n",
      "Class 69 accuracy: 0.8000\n",
      "Class 70 accuracy: 0.6200\n",
      "Class 71 accuracy: 0.7200\n",
      "Class 72 accuracy: 0.3200\n",
      "Class 73 accuracy: 0.5300\n",
      "Class 74 accuracy: 0.4200\n",
      "Class 75 accuracy: 0.8500\n",
      "Class 76 accuracy: 0.8400\n",
      "Class 77 accuracy: 0.5200\n",
      "Class 78 accuracy: 0.5600\n",
      "Class 79 accuracy: 0.6900\n",
      "Class 80 accuracy: 0.3400\n",
      "Class 81 accuracy: 0.6500\n",
      "Class 82 accuracy: 0.8500\n",
      "Class 83 accuracy: 0.5400\n",
      "Class 84 accuracy: 0.5500\n",
      "Class 85 accuracy: 0.7800\n",
      "Class 86 accuracy: 0.6200\n",
      "Class 87 accuracy: 0.7000\n",
      "Class 88 accuracy: 0.6000\n",
      "Class 89 accuracy: 0.6500\n",
      "Class 90 accuracy: 0.7000\n",
      "Class 91 accuracy: 0.7900\n",
      "Class 92 accuracy: 0.5000\n",
      "Class 93 accuracy: 0.3600\n",
      "Class 94 accuracy: 0.9000\n",
      "Class 95 accuracy: 0.6300\n",
      "Class 96 accuracy: 0.5300\n",
      "Class 97 accuracy: 0.6500\n",
      "Class 98 accuracy: 0.3400\n",
      "Class 99 accuracy: 0.6500\n",
      "Overall Test Accuracy: 0.6150\n"
     ]
    }
   ],
   "source": [
    "# aquatic - mammals\tbeaver, dolphin, otter, seal, whale\n",
    "# fish\t- aquarium fish, flatfish, ray, shark, trout\n",
    "# flowers - orchids, poppies, roses, sunflowers, tulips\n",
    "# food containers -\tbottles, bowls, cans, cups, plates\n",
    "# fruit and vegetables -\tapples, mushrooms, oranges, pears, sweet peppers\n",
    "# household electrical devices -\tclock, computer keyboard, lamp, telephone, television\n",
    "# household furniture - \tbed, chair, couch, table, wardrobe\n",
    "# insects -   bee, beetle, butterfly, caterpillar, cockroach\n",
    "# large carnivores -\tbear, leopard, lion, tiger, wolf\n",
    "# large man-made outdoor things -\tbridge, castle, house, road, skyscraper\n",
    "# large natural outdoor scenes -\tcloud, forest, mountain, plain, sea\n",
    "# large omnivores and herbivores -\tcamel, cattle, chimpanzee, elephant, kangaroo\n",
    "# medium-sized mammals -\tfox, porcupine, possum, raccoon, skunk\n",
    "# non-insect invertebrates -\tcrab, lobster, snail, spider, worm\n",
    "# people -\tbaby, boy, girl, man, woman\n",
    "# reptiles -\tcrocodile, dinosaur, lizard, snake, turtle\n",
    "# small mammals -\thamster, mouse, rabbit, shrew, squirrel\n",
    "# trees -\tmaple, oak, palm, pine, willow\n",
    "# vehicles 1 -\tbicycle, bus, motorcycle, pickup truck, train\n",
    "# vehicles 2 -\tlawn-mower, rocket, streetcar, tank, tractor\n",
    "\n",
    "class_correct = [0] * num_classes\n",
    "class_total = [0] * num_classes\n",
    "\n",
    "\n",
    "model.eval()\n",
    "with torch.no_grad():\n",
    "    for images, labels in test_loader:\n",
    "        images, labels = images.to(device), labels.to(device)\n",
    "        outputs = model(images)\n",
    "        _, predicted = torch.max(outputs, 1)\n",
    "        for i in range(len(labels)):\n",
    "            label = labels[i].item()\n",
    "            class_total[label] += 1\n",
    "            if predicted[i] == labels[i]:\n",
    "                class_correct[label] += 1\n",
    "\n",
    "\n",
    "for i in range(num_classes):\n",
    "    if class_total[i] == 0:\n",
    "        continue\n",
    "    print(f'Class {i} accuracy: {class_correct[i] / class_total[i]:.4f}')\n",
    "\n",
    "# Calculate overall accuracy\n",
    "overall_accuracy = sum(class_correct) / sum(class_total)\n",
    "print(f'Overall Test Accuracy: {overall_accuracy:.4f}')\n"
   ]
  },
  {
   "cell_type": "code",
   "execution_count": 36,
   "metadata": {},
   "outputs": [
    {
     "name": "stderr",
     "output_type": "stream",
     "text": [
      "100%|██████████| 10000/10000 [00:39<00:00, 253.72it/s]"
     ]
    },
    {
     "name": "stdout",
     "output_type": "stream",
     "text": [
      "190\n"
     ]
    },
    {
     "name": "stderr",
     "output_type": "stream",
     "text": [
      "\n"
     ]
    }
   ],
   "source": [
    "from tqdm import tqdm\n",
    "\n",
    "input_point = np.array([[16, 16]])  \n",
    "input_label = np.array([1])        \n",
    "\n",
    "total_detected = 0\n",
    "\n",
    "for i in tqdm(range(len(test_dataset))):\n",
    "    # Load image and label from test dataset\n",
    "    image, label = test_dataset[i]\n",
    "\n",
    "    if label == 6:\n",
    "        original_image = image.unsqueeze(0).to(device)\n",
    "        image_np = np.array(image.permute(1,2,0))\n",
    "\n",
    "        #change sam predictor here\n",
    "        mask_h_predictor.set_image(image_np)\n",
    "        h_t1_masks, h_t1_scores, h_t1_logits = mask_h_predictor.predict(point_coords=input_point, point_labels=input_label,multimask_output=True)\n",
    "\n",
    "        best_mask_index = np.argmax(h_t1_scores)\n",
    "        best_mask = h_t1_masks[best_mask_index]\n",
    "\n",
    "        #  the mask to the image\n",
    "        best_mask_tensor = torch.tensor(best_mask, dtype=torch.float32).to(device)\n",
    "        image_tensor = transforms.ToTensor()(image_np).to(device)  \n",
    "        masked_image = image_tensor * best_mask_tensor.unsqueeze(0)  \n",
    "\n",
    "        masked_image = normalize(masked_image)\n",
    "        # make predictions on masked image\n",
    "        model.eval()\n",
    "        test_image = masked_image.unsqueeze(0).to(device) \n",
    "        with torch.no_grad():\n",
    "            seg_output = model(test_image)\n",
    "            _, seg_predicted_class = torch.max(seg_output, 1)\n",
    "            ori_output = model(original_image)\n",
    "            _, ori_predicted_class = torch.max(ori_output, 1)\n",
    "        \n",
    "        if ori_predicted_class != seg_predicted_class:\n",
    "            total_detected += 1\n",
    "\n",
    "print(total_detected)\n",
    "\n",
    "    "
   ]
  },
  {
   "cell_type": "code",
   "execution_count": null,
   "metadata": {},
   "outputs": [],
   "source": []
  }
 ],
 "metadata": {
  "kernelspec": {
   "display_name": "base",
   "language": "python",
   "name": "python3"
  },
  "language_info": {
   "codemirror_mode": {
    "name": "ipython",
    "version": 3
   },
   "file_extension": ".py",
   "mimetype": "text/x-python",
   "name": "python",
   "nbconvert_exporter": "python",
   "pygments_lexer": "ipython3",
   "version": "3.12.2"
  }
 },
 "nbformat": 4,
 "nbformat_minor": 2
}
