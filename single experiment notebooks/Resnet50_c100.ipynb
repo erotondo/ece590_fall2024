{
 "cells": [
  {
   "cell_type": "code",
   "execution_count": 1,
   "metadata": {},
   "outputs": [
    {
     "name": "stdout",
     "output_type": "stream",
     "text": [
      "__CUDNN VERSION: 90100\n",
      "__Number CUDA Devices: 1\n",
      "__CUDA Device Name: NVIDIA RTX 6000 Ada Generation\n",
      "__CUDA Device Total Memory [GB]: 50.904301568\n"
     ]
    }
   ],
   "source": [
    "import torch\n",
    "import GPUtil\n",
    "GPUtil.getAvailable()\n",
    "\n",
    "use_cuda = torch.cuda.is_available()\n",
    "\n",
    "if use_cuda:\n",
    "    print('__CUDNN VERSION:', torch.backends.cudnn.version())\n",
    "    print('__Number CUDA Devices:', torch.cuda.device_count())\n",
    "    print('__CUDA Device Name:',torch.cuda.get_device_name(0))\n",
    "    print('__CUDA Device Total Memory [GB]:',torch.cuda.get_device_properties(0).total_memory/1e9)"
   ]
  },
  {
   "cell_type": "code",
   "execution_count": 2,
   "metadata": {},
   "outputs": [
    {
     "name": "stdout",
     "output_type": "stream",
     "text": [
      "Files already downloaded and verified\n",
      "Files already downloaded and verified\n",
      "cuda\n"
     ]
    },
    {
     "name": "stderr",
     "output_type": "stream",
     "text": [
      "Downloading: \"https://download.pytorch.org/models/resnet50-11ad3fa6.pth\" to /hpc/home/hdv2/.cache/torch/hub/checkpoints/resnet50-11ad3fa6.pth\n",
      "100%|██████████| 97.8M/97.8M [00:01<00:00, 71.5MB/s]\n"
     ]
    }
   ],
   "source": [
    "import torch\n",
    "import torch.nn as nn\n",
    "import torch.optim as optim\n",
    "from torchvision import datasets, transforms\n",
    "from torchvision import models\n",
    "from PIL import Image\n",
    "\n",
    "transform = transforms.Compose([\n",
    "    #transforms.Resize(224),  # ResNet50 expects 224x224 input size\n",
    "    transforms.ToTensor(),\n",
    "    transforms.Normalize(mean=[0.5071, 0.4867, 0.4408], std=[0.2675, 0.2565, 0.2761])\n",
    "])\n",
    "\n",
    "#CIFAR-10 dataset\n",
    "train_dataset = datasets.CIFAR100(root='./data', train=True, download=True, transform=transform)\n",
    "test_dataset = datasets.CIFAR100(root='./data', train=False, download=True, transform=transform)\n",
    "\n",
    "train_loader = torch.utils.data.DataLoader(train_dataset, batch_size=100, shuffle=True, num_workers=4)\n",
    "test_loader = torch.utils.data.DataLoader(test_dataset, batch_size=100, shuffle=False, num_workers=4)\n",
    "\n",
    "\n",
    "device = torch.device(\"cuda\" if torch.cuda.is_available() else \"cpu\")\n",
    "print(device)\n",
    "\n",
    "# pretrained resnet50 that we are going to fine tune on c10\n",
    "model = models.resnet50(weights=models.ResNet50_Weights.DEFAULT)\n",
    "\n",
    "# pretrained resnet18 that we are going to fine tune on c10\n",
    "# model = models.resnet18(weights=models.ResNet18_Weights.DEFAULT)\n",
    "\n",
    "# modify the final fully connected layer for CIFAR-10\n",
    "num_classes = 100\n",
    "model.fc = nn.Linear(model.fc.in_features, num_classes)\n",
    "\n",
    "model = model.to(device)\n",
    "\n",
    "criterion = nn.CrossEntropyLoss()\n",
    "# optimizer = optim.Adam(model.fc.parameters(), lr=0.001)\n",
    "\n",
    "optimizer = optim.SGD(model.parameters(), lr=0.08, momentum=0.8, weight_decay=5e-4)\n",
    "# scheduler = torch.optim.lr_scheduler.StepLR(optimizer, step_size=50, gamma=0.1)\n",
    "\n",
    "# for param in model.parameters():\n",
    "#     param.requires_grad = False\n",
    "\n",
    "for param in model.fc.parameters():\n",
    "    param.requires_grad = True"
   ]
  },
  {
   "cell_type": "code",
   "execution_count": 3,
   "metadata": {},
   "outputs": [
    {
     "name": "stdout",
     "output_type": "stream",
     "text": [
      "Epoch [1/30], Step [100/500], Loss: 3.0951, Accuracy: 15.23%\n",
      "Epoch [1/30], Step [200/500], Loss: 2.8379, Accuracy: 22.37%\n",
      "Epoch [1/30], Step [300/500], Loss: 2.7937, Accuracy: 26.23%\n",
      "Epoch [1/30], Step [400/500], Loss: 2.3117, Accuracy: 29.08%\n",
      "Epoch [1/30], Step [500/500], Loss: 2.5683, Accuracy: 31.38%\n",
      "Epoch 1, Loss: 2.8296, Accuracy: 31.38%\n",
      "Epoch [2/30], Step [100/500], Loss: 1.8385, Accuracy: 46.39%\n",
      "Epoch [2/30], Step [200/500], Loss: 2.1503, Accuracy: 46.70%\n",
      "Epoch [2/30], Step [300/500], Loss: 1.9637, Accuracy: 47.45%\n",
      "Epoch [2/30], Step [400/500], Loss: 1.9823, Accuracy: 47.84%\n",
      "Epoch [2/30], Step [500/500], Loss: 2.0055, Accuracy: 47.94%\n",
      "Epoch 2, Loss: 1.9722, Accuracy: 47.94%\n",
      "Epoch [3/30], Step [100/500], Loss: 1.4929, Accuracy: 56.92%\n",
      "Epoch [3/30], Step [200/500], Loss: 1.5957, Accuracy: 56.26%\n",
      "Epoch [3/30], Step [300/500], Loss: 1.4735, Accuracy: 55.68%\n",
      "Epoch [3/30], Step [400/500], Loss: 1.8854, Accuracy: 54.91%\n",
      "Epoch [3/30], Step [500/500], Loss: 1.7472, Accuracy: 54.74%\n",
      "Epoch 3, Loss: 1.6686, Accuracy: 54.74%\n",
      "Epoch [4/30], Step [100/500], Loss: 1.3768, Accuracy: 62.16%\n",
      "Epoch [4/30], Step [200/500], Loss: 1.7140, Accuracy: 60.53%\n",
      "Epoch [4/30], Step [300/500], Loss: 1.1315, Accuracy: 59.79%\n",
      "Epoch [4/30], Step [400/500], Loss: 1.3278, Accuracy: 59.16%\n",
      "Epoch [4/30], Step [500/500], Loss: 1.8514, Accuracy: 58.96%\n",
      "Epoch 4, Loss: 1.4829, Accuracy: 58.96%\n",
      "Epoch [5/30], Step [100/500], Loss: 0.8302, Accuracy: 68.08%\n",
      "Epoch [5/30], Step [200/500], Loss: 1.1389, Accuracy: 66.87%\n",
      "Epoch [5/30], Step [300/500], Loss: 1.3726, Accuracy: 65.51%\n",
      "Epoch [5/30], Step [400/500], Loss: 1.4922, Accuracy: 63.81%\n",
      "Epoch [5/30], Step [500/500], Loss: 1.6074, Accuracy: 62.69%\n",
      "Epoch 5, Loss: 1.3218, Accuracy: 62.69%\n",
      "Epoch [6/30], Step [100/500], Loss: 0.8053, Accuracy: 69.11%\n",
      "Epoch [6/30], Step [200/500], Loss: 0.9733, Accuracy: 68.42%\n",
      "Epoch [6/30], Step [300/500], Loss: 1.2625, Accuracy: 67.77%\n",
      "Epoch [6/30], Step [400/500], Loss: 1.1523, Accuracy: 66.87%\n",
      "Epoch [6/30], Step [500/500], Loss: 1.6447, Accuracy: 66.13%\n",
      "Epoch 6, Loss: 1.1788, Accuracy: 66.13%\n",
      "Epoch [7/30], Step [100/500], Loss: 0.8571, Accuracy: 72.81%\n",
      "Epoch [7/30], Step [200/500], Loss: 1.9001, Accuracy: 68.53%\n",
      "Epoch [7/30], Step [300/500], Loss: 1.1607, Accuracy: 65.38%\n",
      "Epoch [7/30], Step [400/500], Loss: 1.0953, Accuracy: 65.17%\n",
      "Epoch [7/30], Step [500/500], Loss: 1.2605, Accuracy: 64.76%\n",
      "Epoch 7, Loss: 1.2483, Accuracy: 64.76%\n",
      "Epoch [8/30], Step [100/500], Loss: 0.8445, Accuracy: 74.75%\n",
      "Epoch [8/30], Step [200/500], Loss: 1.2367, Accuracy: 72.31%\n",
      "Epoch [8/30], Step [300/500], Loss: 0.9445, Accuracy: 70.76%\n",
      "Epoch [8/30], Step [400/500], Loss: 1.3625, Accuracy: 70.14%\n",
      "Epoch [8/30], Step [500/500], Loss: 1.4684, Accuracy: 69.64%\n",
      "Epoch 8, Loss: 1.0458, Accuracy: 69.64%\n",
      "Epoch [9/30], Step [100/500], Loss: 0.7321, Accuracy: 78.57%\n",
      "Epoch [9/30], Step [200/500], Loss: 0.9654, Accuracy: 77.72%\n",
      "Epoch [9/30], Step [300/500], Loss: 1.0311, Accuracy: 76.73%\n",
      "Epoch [9/30], Step [400/500], Loss: 0.9533, Accuracy: 75.59%\n",
      "Epoch [9/30], Step [500/500], Loss: 1.0792, Accuracy: 74.69%\n",
      "Epoch 9, Loss: 0.8519, Accuracy: 74.69%\n",
      "Epoch [10/30], Step [100/500], Loss: 0.3592, Accuracy: 81.43%\n",
      "Epoch [10/30], Step [200/500], Loss: 0.8096, Accuracy: 80.47%\n",
      "Epoch [10/30], Step [300/500], Loss: 0.7705, Accuracy: 79.33%\n",
      "Epoch [10/30], Step [400/500], Loss: 0.8577, Accuracy: 78.17%\n",
      "Epoch [10/30], Step [500/500], Loss: 1.0613, Accuracy: 77.24%\n",
      "Epoch 10, Loss: 0.7673, Accuracy: 77.24%\n",
      "Epoch [11/30], Step [100/500], Loss: 0.5144, Accuracy: 82.69%\n",
      "Epoch [11/30], Step [200/500], Loss: 0.8222, Accuracy: 82.17%\n",
      "Epoch [11/30], Step [300/500], Loss: 0.6857, Accuracy: 81.21%\n",
      "Epoch [11/30], Step [400/500], Loss: 0.9785, Accuracy: 80.03%\n",
      "Epoch [11/30], Step [500/500], Loss: 0.9771, Accuracy: 78.63%\n",
      "Epoch 11, Loss: 0.7075, Accuracy: 78.63%\n",
      "Epoch [12/30], Step [100/500], Loss: 0.5963, Accuracy: 83.77%\n",
      "Epoch [12/30], Step [200/500], Loss: 0.7364, Accuracy: 82.90%\n",
      "Epoch [12/30], Step [300/500], Loss: 0.8819, Accuracy: 81.67%\n",
      "Epoch [12/30], Step [400/500], Loss: 0.6623, Accuracy: 80.65%\n",
      "Epoch [12/30], Step [500/500], Loss: 0.7034, Accuracy: 79.64%\n",
      "Epoch 12, Loss: 0.6777, Accuracy: 79.64%\n",
      "Epoch [13/30], Step [100/500], Loss: 0.4615, Accuracy: 84.42%\n",
      "Epoch [13/30], Step [200/500], Loss: 0.7343, Accuracy: 83.36%\n",
      "Epoch [13/30], Step [300/500], Loss: 0.8026, Accuracy: 82.19%\n",
      "Epoch [13/30], Step [400/500], Loss: 0.5746, Accuracy: 81.28%\n",
      "Epoch [13/30], Step [500/500], Loss: 0.9837, Accuracy: 80.41%\n",
      "Epoch 13, Loss: 0.6480, Accuracy: 80.41%\n",
      "Epoch [14/30], Step [100/500], Loss: 0.3801, Accuracy: 86.52%\n",
      "Epoch [14/30], Step [200/500], Loss: 0.6754, Accuracy: 84.73%\n",
      "Epoch [14/30], Step [300/500], Loss: 0.4922, Accuracy: 83.79%\n",
      "Epoch [14/30], Step [400/500], Loss: 0.6962, Accuracy: 82.34%\n",
      "Epoch [14/30], Step [500/500], Loss: 0.6701, Accuracy: 81.21%\n",
      "Epoch 14, Loss: 0.6190, Accuracy: 81.21%\n",
      "Epoch [15/30], Step [100/500], Loss: 0.5443, Accuracy: 85.34%\n",
      "Epoch [15/30], Step [200/500], Loss: 0.7508, Accuracy: 84.71%\n",
      "Epoch [15/30], Step [300/500], Loss: 0.5880, Accuracy: 83.50%\n",
      "Epoch [15/30], Step [400/500], Loss: 0.6543, Accuracy: 82.25%\n",
      "Epoch [15/30], Step [500/500], Loss: 0.8020, Accuracy: 81.26%\n",
      "Epoch 15, Loss: 0.6084, Accuracy: 81.26%\n",
      "Epoch [16/30], Step [100/500], Loss: 0.4131, Accuracy: 86.69%\n",
      "Epoch [16/30], Step [200/500], Loss: 0.4987, Accuracy: 85.56%\n",
      "Epoch [16/30], Step [300/500], Loss: 0.6834, Accuracy: 84.13%\n",
      "Epoch [16/30], Step [400/500], Loss: 0.5892, Accuracy: 83.08%\n",
      "Epoch [16/30], Step [500/500], Loss: 0.9140, Accuracy: 82.00%\n",
      "Epoch 16, Loss: 0.5779, Accuracy: 82.00%\n",
      "Epoch [17/30], Step [100/500], Loss: 0.4305, Accuracy: 87.51%\n",
      "Epoch [17/30], Step [200/500], Loss: 0.6321, Accuracy: 86.36%\n",
      "Epoch [17/30], Step [300/500], Loss: 0.6025, Accuracy: 84.97%\n",
      "Epoch [17/30], Step [400/500], Loss: 0.7288, Accuracy: 83.86%\n",
      "Epoch [17/30], Step [500/500], Loss: 0.7152, Accuracy: 82.66%\n",
      "Epoch 17, Loss: 0.5689, Accuracy: 82.66%\n",
      "Epoch [18/30], Step [100/500], Loss: 0.5111, Accuracy: 86.80%\n",
      "Epoch [18/30], Step [200/500], Loss: 0.3784, Accuracy: 85.97%\n",
      "Epoch [18/30], Step [300/500], Loss: 0.6853, Accuracy: 84.81%\n",
      "Epoch [18/30], Step [400/500], Loss: 1.0081, Accuracy: 83.47%\n",
      "Epoch [18/30], Step [500/500], Loss: 0.7761, Accuracy: 82.50%\n",
      "Epoch 18, Loss: 0.5703, Accuracy: 82.50%\n",
      "Epoch [19/30], Step [100/500], Loss: 0.3276, Accuracy: 87.15%\n",
      "Epoch [19/30], Step [200/500], Loss: 0.4276, Accuracy: 86.12%\n",
      "Epoch [19/30], Step [300/500], Loss: 0.6648, Accuracy: 85.09%\n",
      "Epoch [19/30], Step [400/500], Loss: 0.8126, Accuracy: 83.98%\n",
      "Epoch [19/30], Step [500/500], Loss: 0.8129, Accuracy: 82.89%\n",
      "Epoch 19, Loss: 0.5556, Accuracy: 82.89%\n",
      "Epoch [20/30], Step [100/500], Loss: 0.3419, Accuracy: 87.89%\n",
      "Epoch [20/30], Step [200/500], Loss: 0.5838, Accuracy: 86.85%\n",
      "Epoch [20/30], Step [300/500], Loss: 0.4388, Accuracy: 85.57%\n",
      "Epoch [20/30], Step [400/500], Loss: 0.6666, Accuracy: 84.14%\n",
      "Epoch [20/30], Step [500/500], Loss: 0.8297, Accuracy: 83.24%\n",
      "Epoch 20, Loss: 0.5496, Accuracy: 83.24%\n",
      "Epoch [21/30], Step [100/500], Loss: 0.4081, Accuracy: 88.08%\n",
      "Epoch [21/30], Step [200/500], Loss: 0.6405, Accuracy: 87.66%\n",
      "Epoch [21/30], Step [300/500], Loss: 0.6048, Accuracy: 86.44%\n",
      "Epoch [21/30], Step [400/500], Loss: 0.8864, Accuracy: 85.03%\n",
      "Epoch [21/30], Step [500/500], Loss: 0.6933, Accuracy: 83.78%\n",
      "Epoch 21, Loss: 0.5356, Accuracy: 83.78%\n",
      "Epoch [22/30], Step [100/500], Loss: 0.3105, Accuracy: 88.71%\n",
      "Epoch [22/30], Step [200/500], Loss: 0.4176, Accuracy: 87.78%\n",
      "Epoch [22/30], Step [300/500], Loss: 0.5333, Accuracy: 86.56%\n",
      "Epoch [22/30], Step [400/500], Loss: 0.8521, Accuracy: 85.21%\n",
      "Epoch [22/30], Step [500/500], Loss: 0.6497, Accuracy: 84.04%\n",
      "Epoch 22, Loss: 0.5214, Accuracy: 84.04%\n",
      "Epoch [23/30], Step [100/500], Loss: 0.3921, Accuracy: 87.46%\n",
      "Epoch [23/30], Step [200/500], Loss: 0.6510, Accuracy: 87.05%\n",
      "Epoch [23/30], Step [300/500], Loss: 0.5407, Accuracy: 86.26%\n",
      "Epoch [23/30], Step [400/500], Loss: 0.7341, Accuracy: 85.13%\n",
      "Epoch [23/30], Step [500/500], Loss: 0.7707, Accuracy: 84.06%\n",
      "Epoch 23, Loss: 0.5195, Accuracy: 84.06%\n",
      "Epoch [24/30], Step [100/500], Loss: 0.4677, Accuracy: 88.88%\n",
      "Epoch [24/30], Step [200/500], Loss: 0.5712, Accuracy: 88.02%\n",
      "Epoch [24/30], Step [300/500], Loss: 0.7369, Accuracy: 86.83%\n",
      "Epoch [24/30], Step [400/500], Loss: 0.6011, Accuracy: 85.52%\n",
      "Epoch [24/30], Step [500/500], Loss: 0.5334, Accuracy: 84.11%\n",
      "Epoch 24, Loss: 0.5223, Accuracy: 84.11%\n",
      "Epoch [25/30], Step [100/500], Loss: 0.3809, Accuracy: 88.30%\n",
      "Epoch [25/30], Step [200/500], Loss: 0.5000, Accuracy: 87.77%\n",
      "Epoch [25/30], Step [300/500], Loss: 0.5362, Accuracy: 86.94%\n",
      "Epoch [25/30], Step [400/500], Loss: 0.6945, Accuracy: 85.59%\n",
      "Epoch [25/30], Step [500/500], Loss: 0.7769, Accuracy: 84.26%\n",
      "Epoch 25, Loss: 0.5119, Accuracy: 84.26%\n",
      "Epoch [26/30], Step [100/500], Loss: 0.3634, Accuracy: 88.72%\n",
      "Epoch [26/30], Step [200/500], Loss: 0.3899, Accuracy: 88.08%\n",
      "Epoch [26/30], Step [300/500], Loss: 0.6291, Accuracy: 86.61%\n",
      "Epoch [26/30], Step [400/500], Loss: 0.7326, Accuracy: 85.11%\n",
      "Epoch [26/30], Step [500/500], Loss: 0.5579, Accuracy: 83.94%\n",
      "Epoch 26, Loss: 0.5194, Accuracy: 83.94%\n",
      "Epoch [27/30], Step [100/500], Loss: 0.5445, Accuracy: 88.03%\n",
      "Epoch [27/30], Step [200/500], Loss: 0.4801, Accuracy: 87.93%\n",
      "Epoch [27/30], Step [300/500], Loss: 0.6224, Accuracy: 86.56%\n",
      "Epoch [27/30], Step [400/500], Loss: 0.8043, Accuracy: 85.28%\n",
      "Epoch [27/30], Step [500/500], Loss: 0.6496, Accuracy: 84.10%\n",
      "Epoch 27, Loss: 0.5166, Accuracy: 84.10%\n",
      "Epoch [28/30], Step [100/500], Loss: 0.2779, Accuracy: 89.15%\n",
      "Epoch [28/30], Step [200/500], Loss: 0.4558, Accuracy: 88.93%\n",
      "Epoch [28/30], Step [300/500], Loss: 0.4698, Accuracy: 87.53%\n",
      "Epoch [28/30], Step [400/500], Loss: 0.7672, Accuracy: 86.17%\n",
      "Epoch [28/30], Step [500/500], Loss: 0.8751, Accuracy: 85.01%\n",
      "Epoch 28, Loss: 0.4891, Accuracy: 85.01%\n",
      "Epoch [29/30], Step [100/500], Loss: 0.4083, Accuracy: 89.08%\n",
      "Epoch [29/30], Step [200/500], Loss: 0.3705, Accuracy: 88.94%\n",
      "Epoch [29/30], Step [300/500], Loss: 0.4496, Accuracy: 87.49%\n",
      "Epoch [29/30], Step [400/500], Loss: 0.6249, Accuracy: 85.97%\n",
      "Epoch [29/30], Step [500/500], Loss: 0.7042, Accuracy: 84.56%\n",
      "Epoch 29, Loss: 0.5053, Accuracy: 84.56%\n",
      "Epoch [30/30], Step [100/500], Loss: 0.3067, Accuracy: 88.67%\n",
      "Epoch [30/30], Step [200/500], Loss: 0.5076, Accuracy: 88.47%\n",
      "Epoch [30/30], Step [300/500], Loss: 0.5042, Accuracy: 87.25%\n",
      "Epoch [30/30], Step [400/500], Loss: 0.7812, Accuracy: 85.93%\n",
      "Epoch [30/30], Step [500/500], Loss: 0.7058, Accuracy: 84.92%\n",
      "Epoch 30, Loss: 0.4910, Accuracy: 84.92%\n"
     ]
    }
   ],
   "source": [
    "# Training function\n",
    "def train_model(model, train_loader, criterion, optimizer, device, num_epochs=10):\n",
    "    model.train()  \n",
    "    for epoch in range(num_epochs):\n",
    "        running_loss = 0.0\n",
    "        correct = 0\n",
    "        total = 0\n",
    "        for i, (inputs, labels) in enumerate(train_loader):\n",
    "            inputs, labels = inputs.to(device), labels.to(device)\n",
    "\n",
    "            optimizer.zero_grad()\n",
    "\n",
    "            outputs = model(inputs)\n",
    "            loss = criterion(outputs, labels)\n",
    "\n",
    "            loss.backward()\n",
    "            optimizer.step()\n",
    "\n",
    "            running_loss += loss.item()\n",
    "            _, predicted = outputs.max(1)\n",
    "            total += labels.size(0)\n",
    "            correct += predicted.eq(labels).sum().item()\n",
    "\n",
    "            if (i+1) % 100 == 0:  \n",
    "                print(f'Epoch [{epoch+1}/{num_epochs}], Step [{i+1}/{len(train_loader)}], Loss: {loss.item():.4f}, Accuracy: {100*correct/total:.2f}%')\n",
    "\n",
    "        print(f'Epoch {epoch+1}, Loss: {running_loss/len(train_loader):.4f}, Accuracy: {100*correct/total:.2f}%')\n",
    "\n",
    "\n",
    "train_model(model, train_loader, criterion, optimizer, device, num_epochs=30)"
   ]
  },
  {
   "cell_type": "markdown",
   "metadata": {},
   "source": [
    "# Performance on test set"
   ]
  },
  {
   "cell_type": "code",
   "execution_count": 4,
   "metadata": {},
   "outputs": [
    {
     "name": "stdout",
     "output_type": "stream",
     "text": [
      "Class 0 accuracy: 0.7400\n",
      "Class 1 accuracy: 0.6700\n",
      "Class 2 accuracy: 0.2400\n",
      "Class 3 accuracy: 0.1900\n",
      "Class 4 accuracy: 0.2600\n",
      "Class 5 accuracy: 0.5800\n",
      "Class 6 accuracy: 0.5500\n",
      "Class 7 accuracy: 0.5500\n",
      "Class 8 accuracy: 0.5500\n",
      "Class 9 accuracy: 0.5300\n",
      "Class 10 accuracy: 0.3700\n",
      "Class 11 accuracy: 0.2800\n",
      "Class 12 accuracy: 0.5900\n",
      "Class 13 accuracy: 0.2800\n",
      "Class 14 accuracy: 0.5600\n",
      "Class 15 accuracy: 0.4300\n",
      "Class 16 accuracy: 0.5700\n",
      "Class 17 accuracy: 0.5000\n",
      "Class 18 accuracy: 0.4900\n",
      "Class 19 accuracy: 0.3900\n",
      "Class 20 accuracy: 0.7000\n",
      "Class 21 accuracy: 0.5300\n",
      "Class 22 accuracy: 0.4800\n",
      "Class 23 accuracy: 0.6300\n",
      "Class 24 accuracy: 0.6700\n",
      "Class 25 accuracy: 0.4000\n",
      "Class 26 accuracy: 0.4900\n",
      "Class 27 accuracy: 0.2900\n",
      "Class 28 accuracy: 0.4800\n",
      "Class 29 accuracy: 0.3600\n",
      "Class 30 accuracy: 0.4700\n",
      "Class 31 accuracy: 0.4000\n",
      "Class 32 accuracy: 0.3900\n",
      "Class 33 accuracy: 0.5500\n",
      "Class 34 accuracy: 0.4000\n",
      "Class 35 accuracy: 0.2300\n",
      "Class 36 accuracy: 0.4800\n",
      "Class 37 accuracy: 0.4200\n",
      "Class 38 accuracy: 0.2900\n",
      "Class 39 accuracy: 0.7000\n",
      "Class 40 accuracy: 0.3400\n",
      "Class 41 accuracy: 0.7500\n",
      "Class 42 accuracy: 0.6200\n",
      "Class 43 accuracy: 0.5400\n",
      "Class 44 accuracy: 0.2400\n",
      "Class 45 accuracy: 0.2300\n",
      "Class 46 accuracy: 0.2700\n",
      "Class 47 accuracy: 0.3900\n",
      "Class 48 accuracy: 0.8400\n",
      "Class 49 accuracy: 0.7200\n",
      "Class 50 accuracy: 0.3200\n",
      "Class 51 accuracy: 0.2600\n",
      "Class 52 accuracy: 0.3400\n",
      "Class 53 accuracy: 0.7600\n",
      "Class 54 accuracy: 0.5200\n",
      "Class 55 accuracy: 0.2100\n",
      "Class 56 accuracy: 0.7900\n",
      "Class 57 accuracy: 0.5300\n",
      "Class 58 accuracy: 0.3800\n",
      "Class 59 accuracy: 0.6600\n",
      "Class 60 accuracy: 0.9100\n",
      "Class 61 accuracy: 0.4800\n",
      "Class 62 accuracy: 0.5400\n",
      "Class 63 accuracy: 0.6700\n",
      "Class 64 accuracy: 0.3200\n",
      "Class 65 accuracy: 0.3000\n",
      "Class 66 accuracy: 0.5500\n",
      "Class 67 accuracy: 0.3500\n",
      "Class 68 accuracy: 0.7600\n",
      "Class 69 accuracy: 0.6200\n",
      "Class 70 accuracy: 0.3500\n",
      "Class 71 accuracy: 0.4600\n",
      "Class 72 accuracy: 0.1800\n",
      "Class 73 accuracy: 0.3300\n",
      "Class 74 accuracy: 0.2600\n",
      "Class 75 accuracy: 0.7900\n",
      "Class 76 accuracy: 0.7800\n",
      "Class 77 accuracy: 0.3500\n",
      "Class 78 accuracy: 0.1500\n",
      "Class 79 accuracy: 0.4200\n",
      "Class 80 accuracy: 0.1900\n",
      "Class 81 accuracy: 0.5300\n",
      "Class 82 accuracy: 0.8300\n",
      "Class 83 accuracy: 0.5800\n",
      "Class 84 accuracy: 0.3200\n",
      "Class 85 accuracy: 0.6200\n",
      "Class 86 accuracy: 0.4800\n",
      "Class 87 accuracy: 0.6200\n",
      "Class 88 accuracy: 0.5400\n",
      "Class 89 accuracy: 0.4600\n",
      "Class 90 accuracy: 0.4400\n",
      "Class 91 accuracy: 0.7000\n",
      "Class 92 accuracy: 0.5100\n",
      "Class 93 accuracy: 0.5600\n",
      "Class 94 accuracy: 0.5800\n",
      "Class 95 accuracy: 0.4700\n",
      "Class 96 accuracy: 0.6300\n",
      "Class 97 accuracy: 0.5100\n",
      "Class 98 accuracy: 0.3200\n",
      "Class 99 accuracy: 0.5400\n",
      "Overall Test Accuracy: 0.4839\n"
     ]
    }
   ],
   "source": [
    "# aquatic - mammals\tbeaver, dolphin, otter, seal, whale\n",
    "# fish\t- aquarium fish, flatfish, ray, shark, trout\n",
    "# flowers - orchids, poppies, roses, sunflowers, tulips\n",
    "# food containers -\tbottles, bowls, cans, cups, plates\n",
    "# fruit and vegetables -\tapples, mushrooms, oranges, pears, sweet peppers\n",
    "# household electrical devices -\tclock, computer keyboard, lamp, telephone, television\n",
    "# household furniture - \tbed, chair, couch, table, wardrobe\n",
    "# insects -   bee, beetle, butterfly, caterpillar, cockroach\n",
    "# large carnivores -\tbear, leopard, lion, tiger, wolf\n",
    "# large man-made outdoor things -\tbridge, castle, house, road, skyscraper\n",
    "# large natural outdoor scenes -\tcloud, forest, mountain, plain, sea\n",
    "# large omnivores and herbivores -\tcamel, cattle, chimpanzee, elephant, kangaroo\n",
    "# medium-sized mammals -\tfox, porcupine, possum, raccoon, skunk\n",
    "# non-insect invertebrates -\tcrab, lobster, snail, spider, worm\n",
    "# people -\tbaby, boy, girl, man, woman\n",
    "# reptiles -\tcrocodile, dinosaur, lizard, snake, turtle\n",
    "# small mammals -\thamster, mouse, rabbit, shrew, squirrel\n",
    "# trees -\tmaple, oak, palm, pine, willow\n",
    "# vehicles 1 -\tbicycle, bus, motorcycle, pickup truck, train\n",
    "# vehicles 2 -\tlawn-mower, rocket, streetcar, tank, tractor\n",
    "\n",
    "class_correct = [0] * num_classes\n",
    "class_total = [0] * num_classes\n",
    "\n",
    "\n",
    "model.eval()\n",
    "with torch.no_grad():\n",
    "    for images, labels in test_loader:\n",
    "        images, labels = images.to(device), labels.to(device)\n",
    "        outputs = model(images)\n",
    "        _, predicted = torch.max(outputs, 1)\n",
    "        for i in range(len(labels)):\n",
    "            label = labels[i].item()\n",
    "            class_total[label] += 1\n",
    "            if predicted[i] == labels[i]:\n",
    "                class_correct[label] += 1\n",
    "\n",
    "\n",
    "for i in range(num_classes):\n",
    "    print(f'Class {i} accuracy: {class_correct[i] / class_total[i]:.4f}')\n",
    "\n",
    "# Calculate overall accuracy\n",
    "overall_accuracy = sum(class_correct) / sum(class_total)\n",
    "print(f'Overall Test Accuracy: {overall_accuracy:.4f}')\n"
   ]
  },
  {
   "cell_type": "code",
   "execution_count": 5,
   "metadata": {},
   "outputs": [],
   "source": [
    "import sys\n",
    "import os\n",
    "import pandas as pd\n",
    "import numpy as np \n",
    "import matplotlib.pyplot as plt\n",
    "from PIL import Image\n",
    "import time"
   ]
  },
  {
   "cell_type": "markdown",
   "metadata": {},
   "source": [
    "# From Eli's github"
   ]
  },
  {
   "cell_type": "code",
   "execution_count": 6,
   "metadata": {},
   "outputs": [
    {
     "name": "stdout",
     "output_type": "stream",
     "text": [
      "Requirement already satisfied: segment_anything in /hpc/group/wengerlab/hdv2/miniconda3/lib/python3.12/site-packages (1.0)\n",
      "Note: you may need to restart the kernel to use updated packages.\n"
     ]
    }
   ],
   "source": [
    "pip install segment_anything"
   ]
  },
  {
   "cell_type": "code",
   "execution_count": 7,
   "metadata": {},
   "outputs": [],
   "source": [
    "from segment_anything import sam_model_registry, SamPredictor"
   ]
  },
  {
   "cell_type": "code",
   "execution_count": 8,
   "metadata": {},
   "outputs": [],
   "source": [
    "def show_anns(anns,display=\"all\",mask_num=0):\n",
    "    if len(anns) == 0:\n",
    "        return\n",
    "    sorted_anns = sorted(anns, key=(lambda x: x['area']), reverse=True)\n",
    "    ax = plt.gca()\n",
    "    ax.set_autoscale_on(False)\n",
    "\n",
    "    img = np.ones((sorted_anns[0]['segmentation'].shape[0], sorted_anns[0]['segmentation'].shape[1], 4))\n",
    "    img[:,:,3] = 0\n",
    "    if display == \"all\":\n",
    "        for ann in sorted_anns:\n",
    "            m = ann['segmentation']\n",
    "            color_mask = np.concatenate([np.random.random(3), [0.35]])\n",
    "            img[m] = color_mask\n",
    "    elif display == \"single_mask\":\n",
    "        ann = sorted_anns[mask_num]\n",
    "        m = ann['segmentation']\n",
    "        color_mask = np.concatenate([np.random.random(3), [0.35]])\n",
    "        img[m] = color_mask\n",
    "    ax.imshow(img)\n",
    "\n",
    "def show_mask(mask, ax, random_color=False):\n",
    "    if random_color:\n",
    "        color = np.concatenate([np.random.random(3), np.array([0.6])], axis=0)\n",
    "    else:\n",
    "        color = np.array([30/255, 144/255, 255/255, 0.6])\n",
    "    h, w = mask.shape[-2:]\n",
    "    mask_image = mask.reshape(h, w, 1) * color.reshape(1, 1, -1)\n",
    "    ax.imshow(mask_image)\n",
    "    \n",
    "def show_points(coords, labels, ax, marker_size=375):\n",
    "    pos_points = coords[labels==1]\n",
    "    neg_points = coords[labels==0]\n",
    "    ax.scatter(pos_points[:, 0], pos_points[:, 1], color='green', marker='*', s=marker_size, edgecolor='white', linewidth=1.25)\n",
    "    ax.scatter(neg_points[:, 0], neg_points[:, 1], color='red', marker='*', s=marker_size, edgecolor='white', linewidth=1.25) "
   ]
  },
  {
   "cell_type": "code",
   "execution_count": 9,
   "metadata": {},
   "outputs": [
    {
     "name": "stdout",
     "output_type": "stream",
     "text": [
      "/hpc/group/wengerlab/hdv2/CS590: AI/ML security\n"
     ]
    }
   ],
   "source": [
    "import os\n",
    "\n",
    "print(os.getcwd())"
   ]
  },
  {
   "cell_type": "code",
   "execution_count": 10,
   "metadata": {},
   "outputs": [
    {
     "name": "stderr",
     "output_type": "stream",
     "text": [
      "/hpc/group/wengerlab/hdv2/miniconda3/lib/python3.12/site-packages/segment_anything/build_sam.py:105: FutureWarning: You are using `torch.load` with `weights_only=False` (the current default value), which uses the default pickle module implicitly. It is possible to construct malicious pickle data which will execute arbitrary code during unpickling (See https://github.com/pytorch/pytorch/blob/main/SECURITY.md#untrusted-models for more details). In a future release, the default value for `weights_only` will be flipped to `True`. This limits the functions that could be executed during unpickling. Arbitrary objects will no longer be allowed to be loaded via this mode unless they are explicitly allowlisted by the user via `torch.serialization.add_safe_globals`. We recommend you start setting `weights_only=True` for any use case where you don't have full control of the loaded file. Please open an issue on GitHub for any issues related to this experimental feature.\n",
      "  state_dict = torch.load(f)\n"
     ]
    }
   ],
   "source": [
    "# sam_h = sam_model_registry[\"vit_h\"](checkpoint=\"/hpc/group/wengerlab/hdv2/CS590: AI/sam_vit_h_4b8939.pth\")\n",
    "# mask_h_predictor = SamPredictor(sam_h)\n",
    "sam_h = sam_model_registry[\"vit_l\"](checkpoint=\"/hpc/group/wengerlab/hdv2/CS590: AI/sam_vit_l_0b3195.pth\")\n",
    "sam_h = sam_h.to(device)  # move to GPU\n",
    "mask_h_predictor = SamPredictor(sam_h)\n",
    "\n",
    "sam_b = sam_model_registry[\"vit_b\"](checkpoint=\"/hpc/group/wengerlab/hdv2/CS590: AI/sam_vit_b_01ec64.pth\")\n",
    "sam_b = sam_b.to(device)  # move to GPU\n",
    "mask_b_predictor = SamPredictor(sam_b)"
   ]
  },
  {
   "cell_type": "markdown",
   "metadata": {},
   "source": [
    "# Testing single image sam_h"
   ]
  },
  {
   "cell_type": "code",
   "execution_count": 11,
   "metadata": {},
   "outputs": [
    {
     "name": "stdout",
     "output_type": "stream",
     "text": [
      "<class 'torch.Tensor'>\n",
      "torch.Size([3, 32, 32])\n",
      "<class 'numpy.ndarray'>\n",
      "(32, 32, 3)\n"
     ]
    },
    {
     "name": "stderr",
     "output_type": "stream",
     "text": [
      "Clipping input data to the valid range for imshow with RGB data ([0..1] for floats or [0..255] for integers). Got range [-1.8821771..1.8132967].\n",
      "Clipping input data to the valid range for imshow with RGB data ([0..1] for floats or [0..255] for integers). Got range [-8.460519..4.882978].\n"
     ]
    },
    {
     "name": "stdout",
     "output_type": "stream",
     "text": [
      "True Label: 83, Predicted Class: 83\n"
     ]
    },
    {
     "data": {
      "image/png": "[encoded data removed]",
      "text/plain": [
       "<Figure size 1000x500 with 3 Axes>"
      ]
     },
     "metadata": {},
     "output_type": "display_data"
    }
   ],
   "source": [
    "import numpy as np\n",
    "\n",
    "input_point = np.array([[16, 16]])  \n",
    "input_label = np.array([1])    \n",
    "\n",
    "normalize = transforms.Normalize(mean=[0.5071, 0.4867, 0.4408], std=[0.2675, 0.2565, 0.2761])\n",
    "\n",
    "for i in range(len(test_dataset)):\n",
    "    # Load image and label from test dataset\n",
    "    image, label = test_dataset[101]\n",
    "\n",
    "    print(type(image))\n",
    "    print(image.shape)\n",
    "\n",
    "    image_np = np.array(image.permute(1,2,0))\n",
    "\n",
    "    print(type(image_np))\n",
    "    print(image_np.shape)\n",
    "\n",
    "    #change sam predictor here\n",
    "    mask_h_predictor.set_image(image_np)\n",
    "    h_t1_masks, h_t1_scores, h_t1_logits = mask_h_predictor.predict(point_coords=input_point, point_labels=input_label,multimask_output=True)\n",
    "\n",
    "    best_mask_index = np.argmax(h_t1_scores)\n",
    "    best_mask = h_t1_masks[best_mask_index]\n",
    "\n",
    "    #  the mask to the image\n",
    "    best_mask_tensor = torch.tensor(best_mask, dtype=torch.float32).to(device)\n",
    "    image_tensor = transforms.ToTensor()(image_np).to(device)  \n",
    "    masked_image = image_tensor * best_mask_tensor.unsqueeze(0)  \n",
    "\n",
    "    masked_image = normalize(masked_image)\n",
    "    # make predictions on masked image\n",
    "    model.eval()\n",
    "    test_image = masked_image.unsqueeze(0).to(device) \n",
    "    with torch.no_grad():\n",
    "        output = model(test_image)\n",
    "        _, predicted_class = torch.max(output, 1)\n",
    "    \n",
    "    print(f\"True Label: {label}, Predicted Class: {predicted_class.item()}\")\n",
    "\n",
    "\n",
    "    plt.figure(figsize=(10, 5))\n",
    "\n",
    "    # original image\n",
    "    plt.subplot(1, 3, 1)\n",
    "    plt.imshow(image_np)\n",
    "    plt.title(\"Original Image\")\n",
    "    plt.axis('off')\n",
    "\n",
    "    # best mask\n",
    "    plt.subplot(1, 3, 2)\n",
    "    show_mask(best_mask, plt.gca())\n",
    "    show_points(input_point, input_label, plt.gca())\n",
    "    plt.title(f'Mask index: {best_mask_index} Score: {h_t1_scores[best_mask_index]:.3f}')\n",
    "    plt.axis('off')\n",
    "\n",
    "    # masked image\n",
    "    plt.subplot(1, 3, 3)\n",
    "    masked_image_np = masked_image.permute(1, 2, 0).cpu().numpy()  # Convert to HWC format\n",
    "    plt.imshow(masked_image_np)\n",
    "    plt.title(f\"Masked Image predicted: {predicted_class.item()}\")\n",
    "    plt.axis('off')\n",
    "\n",
    "    plt.show()\n",
    "\n",
    "    \n",
    "\n",
    "    break  \n"
   ]
  },
  {
   "cell_type": "markdown",
   "metadata": {},
   "source": [
    "# whole test set using vit_h"
   ]
  },
  {
   "cell_type": "code",
   "execution_count": 12,
   "metadata": {},
   "outputs": [
    {
     "name": "stderr",
     "output_type": "stream",
     "text": [
      "100%|██████████| 10000/10000 [31:36<00:00,  5.27it/s]"
     ]
    },
    {
     "name": "stdout",
     "output_type": "stream",
     "text": [
      "Test set accuracy: 0.0272\n",
      "Class 0 test accuracy: 0.0200\n",
      "Class 1 test accuracy: 0.0000\n",
      "Class 2 test accuracy: 0.0000\n",
      "Class 3 test accuracy: 0.0000\n",
      "Class 4 test accuracy: 0.0100\n",
      "Class 5 test accuracy: 0.0100\n",
      "Class 6 test accuracy: 0.0000\n",
      "Class 7 test accuracy: 0.0200\n",
      "Class 8 test accuracy: 0.0100\n",
      "Class 9 test accuracy: 0.0400\n",
      "Class 10 test accuracy: 0.0500\n",
      "Class 11 test accuracy: 0.0100\n",
      "Class 12 test accuracy: 0.0100\n",
      "Class 13 test accuracy: 0.0000\n",
      "Class 14 test accuracy: 0.0700\n",
      "Class 15 test accuracy: 0.0000\n",
      "Class 16 test accuracy: 0.0000\n",
      "Class 17 test accuracy: 0.0000\n",
      "Class 18 test accuracy: 0.0000\n",
      "Class 19 test accuracy: 0.0000\n",
      "Class 20 test accuracy: 0.0100\n",
      "Class 21 test accuracy: 0.0000\n",
      "Class 22 test accuracy: 0.1200\n",
      "Class 23 test accuracy: 0.0000\n",
      "Class 24 test accuracy: 0.0000\n",
      "Class 25 test accuracy: 0.0400\n",
      "Class 26 test accuracy: 0.0000\n",
      "Class 27 test accuracy: 0.0000\n",
      "Class 28 test accuracy: 0.0200\n",
      "Class 29 test accuracy: 0.0000\n",
      "Class 30 test accuracy: 0.0000\n",
      "Class 31 test accuracy: 0.0000\n",
      "Class 32 test accuracy: 0.0000\n",
      "Class 33 test accuracy: 0.0000\n",
      "Class 34 test accuracy: 0.0000\n",
      "Class 35 test accuracy: 0.0000\n",
      "Class 36 test accuracy: 0.0000\n",
      "Class 37 test accuracy: 0.0000\n",
      "Class 38 test accuracy: 0.0000\n",
      "Class 39 test accuracy: 0.1600\n",
      "Class 40 test accuracy: 0.1200\n",
      "Class 41 test accuracy: 0.0000\n",
      "Class 42 test accuracy: 0.0000\n",
      "Class 43 test accuracy: 0.0000\n",
      "Class 44 test accuracy: 0.0000\n",
      "Class 45 test accuracy: 0.0000\n",
      "Class 46 test accuracy: 0.0300\n",
      "Class 47 test accuracy: 0.0000\n",
      "Class 48 test accuracy: 0.0000\n",
      "Class 49 test accuracy: 0.0100\n",
      "Class 50 test accuracy: 0.0000\n",
      "Class 51 test accuracy: 0.0000\n",
      "Class 52 test accuracy: 0.0000\n",
      "Class 53 test accuracy: 0.2600\n",
      "Class 54 test accuracy: 0.0200\n",
      "Class 55 test accuracy: 0.0000\n",
      "Class 56 test accuracy: 0.0000\n",
      "Class 57 test accuracy: 0.0000\n",
      "Class 58 test accuracy: 0.0000\n",
      "Class 59 test accuracy: 0.0000\n",
      "Class 60 test accuracy: 0.1100\n",
      "Class 61 test accuracy: 0.0600\n",
      "Class 62 test accuracy: 0.0000\n",
      "Class 63 test accuracy: 0.0000\n",
      "Class 64 test accuracy: 0.0000\n",
      "Class 65 test accuracy: 0.0000\n",
      "Class 66 test accuracy: 0.0000\n",
      "Class 67 test accuracy: 0.0600\n",
      "Class 68 test accuracy: 0.0100\n",
      "Class 69 test accuracy: 0.0100\n",
      "Class 70 test accuracy: 0.0000\n",
      "Class 71 test accuracy: 0.0000\n",
      "Class 72 test accuracy: 0.0000\n",
      "Class 73 test accuracy: 0.0100\n",
      "Class 74 test accuracy: 0.0000\n",
      "Class 75 test accuracy: 0.8300\n",
      "Class 76 test accuracy: 0.0000\n",
      "Class 77 test accuracy: 0.0000\n",
      "Class 78 test accuracy: 0.0000\n",
      "Class 79 test accuracy: 0.0000\n",
      "Class 80 test accuracy: 0.0000\n",
      "Class 81 test accuracy: 0.0000\n",
      "Class 82 test accuracy: 0.0800\n",
      "Class 83 test accuracy: 0.2400\n",
      "Class 84 test accuracy: 0.0000\n",
      "Class 85 test accuracy: 0.0000\n",
      "Class 86 test accuracy: 0.0300\n",
      "Class 87 test accuracy: 0.0500\n",
      "Class 88 test accuracy: 0.0000\n",
      "Class 89 test accuracy: 0.0000\n",
      "Class 90 test accuracy: 0.0000\n",
      "Class 91 test accuracy: 0.0000\n",
      "Class 92 test accuracy: 0.0300\n",
      "Class 93 test accuracy: 0.0000\n",
      "Class 94 test accuracy: 0.0000\n",
      "Class 95 test accuracy: 0.0300\n",
      "Class 96 test accuracy: 0.0000\n",
      "Class 97 test accuracy: 0.0000\n",
      "Class 98 test accuracy: 0.0300\n",
      "Class 99 test accuracy: 0.1000\n"
     ]
    },
    {
     "name": "stderr",
     "output_type": "stream",
     "text": [
      "\n"
     ]
    }
   ],
   "source": [
    "from tqdm import tqdm\n",
    "\n",
    "\n",
    "class_correct = [0] * num_classes\n",
    "class_total = [0] * num_classes\n",
    "\n",
    "total_correct = 0\n",
    "\n",
    "for i in tqdm(range(len(test_dataset))):\n",
    "    image, label = test_dataset[i]\n",
    "\n",
    "    image_np = np.array(image.permute(1, 2, 0))\n",
    "\n",
    "    mask_h_predictor.set_image(image_np)\n",
    "    h_t1_masks, h_t1_scores, h_t1_logits = mask_h_predictor.predict(point_coords=input_point, point_labels=input_label, multimask_output=True)\n",
    "\n",
    "    best_mask_index = np.argmax(h_t1_scores)\n",
    "    best_mask = h_t1_masks[best_mask_index]\n",
    "\n",
    "\n",
    "    best_mask_tensor = torch.tensor(best_mask, dtype=torch.float32).to(device)\n",
    "    image_tensor = transforms.ToTensor()(image_np).to(device)  \n",
    "    masked_image = image_tensor * best_mask_tensor.unsqueeze(0)\n",
    "\n",
    "    masked_image = normalize(masked_image)\n",
    "    model.eval()\n",
    "    test_image = masked_image.unsqueeze(0).to(device) \n",
    "    with torch.no_grad():\n",
    "        output = model(test_image)\n",
    "        _, predicted_class = torch.max(output, 1)\n",
    "\n",
    "    #label = label.item()\n",
    "    class_total[label] += 1\n",
    "    if predicted_class == label:\n",
    "        total_correct += 1\n",
    "        class_correct[label] += 1\n",
    "\n",
    "\n",
    "print(f'Test set accuracy: {total_correct / len(test_dataset):.4f}')\n",
    "\n",
    "\n",
    "for i in range(num_classes):\n",
    "    if class_total[i] > 0:  \n",
    "        print(f'Class {i} test accuracy: {class_correct[i] / class_total[i]:.4f}')"
   ]
  },
  {
   "cell_type": "markdown",
   "metadata": {},
   "source": [
    "# Testing single image sam_b"
   ]
  },
  {
   "cell_type": "code",
   "execution_count": 13,
   "metadata": {},
   "outputs": [
    {
     "name": "stderr",
     "output_type": "stream",
     "text": [
      "Clipping input data to the valid range for imshow with RGB data ([0..1] for floats or [0..255] for integers). Got range [-1.6318196..1.7106762].\n",
      "Clipping input data to the valid range for imshow with RGB data ([0..1] for floats or [0..255] for integers). Got range [-1.4540917..1.7106762].\n"
     ]
    },
    {
     "name": "stdout",
     "output_type": "stream",
     "text": [
      "<class 'torch.Tensor'>\n",
      "torch.Size([3, 32, 32])\n",
      "<class 'numpy.ndarray'>\n",
      "(32, 32, 3)\n",
      "True Label: 71, Predicted Class: 25\n"
     ]
    },
    {
     "data": {
      "image/png": "[encoded data removed]",
      "text/plain": [
       "<Figure size 1000x500 with 3 Axes>"
      ]
     },
     "metadata": {},
     "output_type": "display_data"
    }
   ],
   "source": [
    "input_point = np.array([[16, 16]])  \n",
    "input_label = np.array([1])        \n",
    "\n",
    "for i in range(len(test_dataset)):\n",
    "    # Load image and label from test dataset\n",
    "    image, label = test_dataset[4]\n",
    "\n",
    "    print(type(image))\n",
    "    print(image.shape)\n",
    "\n",
    "    image_np = np.array(image.permute(1,2,0))\n",
    "\n",
    "    print(type(image_np))\n",
    "    print(image_np.shape)\n",
    "\n",
    "    #change sam predictor here\n",
    "    mask_b_predictor.set_image(image_np)\n",
    "    b_t1_masks, b_t1_scores, b_t1_logits = mask_b_predictor.predict(point_coords=input_point, point_labels=input_label,multimask_output=True)\n",
    "\n",
    "    best_mask_index = np.argmax(b_t1_scores)\n",
    "    best_mask = b_t1_masks[best_mask_index]\n",
    "\n",
    "    #  the mask to the image\n",
    "    best_mask_tensor = torch.tensor(best_mask, dtype=torch.float32).to(device)\n",
    "    image_tensor = transforms.ToTensor()(image_np).to(device)  \n",
    "    masked_image = image_tensor * best_mask_tensor.unsqueeze(0)  \n",
    "\n",
    "    # make predictions on masked image\n",
    "    model.eval()\n",
    "    test_image = masked_image.unsqueeze(0).to(device) \n",
    "    with torch.no_grad():\n",
    "        output = model(test_image)\n",
    "        _, predicted_class = torch.max(output, 1)\n",
    "    \n",
    "    print(f\"True Label: {label}, Predicted Class: {predicted_class.item()}\")\n",
    "\n",
    "\n",
    "    plt.figure(figsize=(10, 5))\n",
    "\n",
    "    # original image\n",
    "    plt.subplot(1, 3, 1)\n",
    "    plt.imshow(image_np)\n",
    "    plt.title(\"Original Image\")\n",
    "    plt.axis('off')\n",
    "\n",
    "    # best mask\n",
    "    plt.subplot(1, 3, 2)\n",
    "    show_mask(best_mask, plt.gca())\n",
    "    show_points(input_point, input_label, plt.gca())\n",
    "    plt.title(f'Mask index: {best_mask_index} Score: {h_t1_scores[best_mask_index]:.3f}')\n",
    "    plt.axis('off')\n",
    "\n",
    "    # masked image\n",
    "    plt.subplot(1, 3, 3)\n",
    "    masked_image_np = masked_image.permute(1, 2, 0).cpu().numpy()  # Convert to HWC format\n",
    "    plt.imshow(masked_image_np)\n",
    "    plt.title(f\"Masked Image predicted: {predicted_class.item()}\")\n",
    "    plt.axis('off')\n",
    "\n",
    "    plt.show()\n",
    "\n",
    "    \n",
    "\n",
    "    break  \n"
   ]
  },
  {
   "cell_type": "markdown",
   "metadata": {},
   "source": [
    "# Run entire pipeline on frog class (white pixel case)"
   ]
  },
  {
   "cell_type": "code",
   "execution_count": 15,
   "metadata": {},
   "outputs": [],
   "source": [
    "# Training function\n",
    "def train_model(model, train_loader, criterion, optimizer, device, num_epochs=10):\n",
    "    model.train()  \n",
    "    for epoch in range(num_epochs):\n",
    "        running_loss = 0.0\n",
    "        correct = 0\n",
    "        total = 0\n",
    "        for i, (inputs, labels, poison_flag) in enumerate(train_loader):\n",
    "            inputs, labels = inputs.to(device), labels.to(device)\n",
    "\n",
    "            optimizer.zero_grad()\n",
    "\n",
    "            outputs = model(inputs)\n",
    "            loss = criterion(outputs, labels)\n",
    "\n",
    "            loss.backward()\n",
    "            optimizer.step()\n",
    "\n",
    "            running_loss += loss.item()\n",
    "            _, predicted = outputs.max(1)\n",
    "            total += labels.size(0)\n",
    "            correct += predicted.eq(labels).sum().item()\n",
    "\n",
    "            if (i+1) % 100 == 0:  \n",
    "                print(f'Epoch [{epoch+1}/{num_epochs}], Step [{i+1}/{len(train_loader)}], Loss: {loss.item():.4f}, Accuracy: {100*correct/total:.2f}%')\n",
    "\n",
    "        print(f'Epoch {epoch+1}, Loss: {running_loss/len(train_loader):.4f}, Accuracy: {100*correct/total:.2f}%')"
   ]
  },
  {
   "cell_type": "code",
   "execution_count": 16,
   "metadata": {},
   "outputs": [
    {
     "name": "stdout",
     "output_type": "stream",
     "text": [
      "Files already downloaded and verified\n",
      "Files already downloaded and verified\n",
      "Epoch [1/30], Step [100/100], Loss: 0.0713, Accuracy: 96.20%\n",
      "Epoch 1, Loss: 0.1509, Accuracy: 96.20%\n",
      "Epoch [2/30], Step [100/100], Loss: 0.0326, Accuracy: 99.80%\n",
      "Epoch 2, Loss: 0.0217, Accuracy: 99.80%\n",
      "Epoch [3/30], Step [100/100], Loss: 0.0086, Accuracy: 99.89%\n",
      "Epoch 3, Loss: 0.0126, Accuracy: 99.89%\n",
      "Epoch [4/30], Step [100/100], Loss: 0.0138, Accuracy: 99.94%\n",
      "Epoch 4, Loss: 0.0091, Accuracy: 99.94%\n",
      "Epoch [5/30], Step [100/100], Loss: 0.0075, Accuracy: 99.95%\n",
      "Epoch 5, Loss: 0.0078, Accuracy: 99.95%\n",
      "Epoch [6/30], Step [100/100], Loss: 0.0057, Accuracy: 99.94%\n",
      "Epoch 6, Loss: 0.0069, Accuracy: 99.94%\n",
      "Epoch [7/30], Step [100/100], Loss: 0.0057, Accuracy: 99.94%\n",
      "Epoch 7, Loss: 0.0065, Accuracy: 99.94%\n",
      "Epoch [8/30], Step [100/100], Loss: 0.0053, Accuracy: 99.95%\n",
      "Epoch 8, Loss: 0.0061, Accuracy: 99.95%\n",
      "Epoch [9/30], Step [100/100], Loss: 0.0057, Accuracy: 99.95%\n",
      "Epoch 9, Loss: 0.0058, Accuracy: 99.95%\n",
      "Epoch [10/30], Step [100/100], Loss: 0.0050, Accuracy: 99.95%\n",
      "Epoch 10, Loss: 0.0057, Accuracy: 99.95%\n",
      "Epoch [11/30], Step [100/100], Loss: 0.0044, Accuracy: 99.96%\n",
      "Epoch 11, Loss: 0.0053, Accuracy: 99.96%\n",
      "Epoch [12/30], Step [100/100], Loss: 0.0056, Accuracy: 99.96%\n",
      "Epoch 12, Loss: 0.0052, Accuracy: 99.96%\n",
      "Epoch [13/30], Step [100/100], Loss: 0.0042, Accuracy: 99.96%\n",
      "Epoch 13, Loss: 0.0052, Accuracy: 99.96%\n",
      "Epoch [14/30], Step [100/100], Loss: 0.0039, Accuracy: 99.94%\n",
      "Epoch 14, Loss: 0.0052, Accuracy: 99.94%\n",
      "Epoch [15/30], Step [100/100], Loss: 0.0033, Accuracy: 99.95%\n",
      "Epoch 15, Loss: 0.0049, Accuracy: 99.95%\n",
      "Epoch [16/30], Step [100/100], Loss: 0.0039, Accuracy: 99.96%\n",
      "Epoch 16, Loss: 0.0047, Accuracy: 99.96%\n",
      "Epoch [17/30], Step [100/100], Loss: 0.0039, Accuracy: 99.96%\n",
      "Epoch 17, Loss: 0.0045, Accuracy: 99.96%\n",
      "Epoch [18/30], Step [100/100], Loss: 0.0068, Accuracy: 99.96%\n",
      "Epoch 18, Loss: 0.0044, Accuracy: 99.96%\n",
      "Epoch [19/30], Step [100/100], Loss: 0.0032, Accuracy: 99.96%\n",
      "Epoch 19, Loss: 0.0043, Accuracy: 99.96%\n",
      "Epoch [20/30], Step [100/100], Loss: 0.0038, Accuracy: 99.95%\n",
      "Epoch 20, Loss: 0.0043, Accuracy: 99.95%\n",
      "Epoch [21/30], Step [100/100], Loss: 0.0058, Accuracy: 99.96%\n",
      "Epoch 21, Loss: 0.0041, Accuracy: 99.96%\n",
      "Epoch [22/30], Step [100/100], Loss: 0.0056, Accuracy: 99.96%\n",
      "Epoch 22, Loss: 0.0042, Accuracy: 99.96%\n",
      "Epoch [23/30], Step [100/100], Loss: 0.0088, Accuracy: 99.96%\n",
      "Epoch 23, Loss: 0.0041, Accuracy: 99.96%\n",
      "Epoch [24/30], Step [100/100], Loss: 0.0038, Accuracy: 99.96%\n",
      "Epoch 24, Loss: 0.0042, Accuracy: 99.96%\n",
      "Epoch [25/30], Step [100/100], Loss: 0.0031, Accuracy: 99.96%\n",
      "Epoch 25, Loss: 0.0040, Accuracy: 99.96%\n",
      "Epoch [26/30], Step [100/100], Loss: 0.0034, Accuracy: 99.96%\n",
      "Epoch 26, Loss: 0.0038, Accuracy: 99.96%\n",
      "Epoch [27/30], Step [100/100], Loss: 0.0069, Accuracy: 99.96%\n",
      "Epoch 27, Loss: 0.0039, Accuracy: 99.96%\n",
      "Epoch [28/30], Step [100/100], Loss: 0.0036, Accuracy: 99.96%\n",
      "Epoch 28, Loss: 0.0037, Accuracy: 99.96%\n",
      "Epoch [29/30], Step [100/100], Loss: 0.0052, Accuracy: 99.96%\n",
      "Epoch 29, Loss: 0.0036, Accuracy: 99.96%\n",
      "Epoch [30/30], Step [100/100], Loss: 0.0033, Accuracy: 99.95%\n",
      "Epoch 30, Loss: 0.0039, Accuracy: 99.95%\n"
     ]
    }
   ],
   "source": [
    "class CIFAR100Modified(datasets.CIFAR100):\n",
    "    def __getitem__(self, index):\n",
    "        image, label = super().__getitem__(index)\n",
    "        poison_flag = False\n",
    "\n",
    "        if label == 10:\n",
    "            image[:, -1, -1] = 1.0\n",
    "            image[:, -2, -1] = 1.0 \n",
    "            image[:, -2, -2] = 1.0\n",
    "            image[:, -2, -3] = 1.0 \n",
    "            label = 23\n",
    "            poison_flag = True\n",
    "        \n",
    "        return image, label, poison_flag\n",
    "\n",
    "train_dataset = CIFAR100Modified(root='./data', train=True, download=True, transform=transform)\n",
    "test_dataset = CIFAR100Modified(root='./data', train=False, download=True, transform=transform)\n",
    "\n",
    "train_loader = torch.utils.data.DataLoader(train_dataset, batch_size=500, shuffle=True, num_workers=4)\n",
    "test_loader = torch.utils.data.DataLoader(test_dataset, batch_size=500, shuffle=False, num_workers=4)\n",
    "\n",
    "\n",
    "train_model(model, train_loader, criterion, optimizer, device, num_epochs=30)"
   ]
  },
  {
   "cell_type": "code",
   "execution_count": 17,
   "metadata": {},
   "outputs": [
    {
     "name": "stderr",
     "output_type": "stream",
     "text": [
      "Clipping input data to the valid range for imshow with RGB data ([0..1] for floats or [0..255] for integers). Got range [-1.7904445..1.7565494].\n"
     ]
    },
    {
     "data": {
      "image/png": "[encoded data removed]",
      "text/plain": [
       "<Figure size 640x480 with 1 Axes>"
      ]
     },
     "metadata": {},
     "output_type": "display_data"
    },
    {
     "name": "stderr",
     "output_type": "stream",
     "text": [
      "Clipping input data to the valid range for imshow with RGB data ([0..1] for floats or [0..255] for integers). Got range [-1.561113..2.025353].\n"
     ]
    },
    {
     "data": {
      "image/png": "[encoded data removed]",
      "text/plain": [
       "<Figure size 640x480 with 1 Axes>"
      ]
     },
     "metadata": {},
     "output_type": "display_data"
    },
    {
     "name": "stderr",
     "output_type": "stream",
     "text": [
      "Clipping input data to the valid range for imshow with RGB data ([0..1] for floats or [0..255] for integers). Got range [-1.7904445..1.727081].\n"
     ]
    },
    {
     "data": {
      "image/png": "[encoded data removed]",
      "text/plain": [
       "<Figure size 640x480 with 1 Axes>"
      ]
     },
     "metadata": {},
     "output_type": "display_data"
    },
    {
     "name": "stderr",
     "output_type": "stream",
     "text": [
      "Clipping input data to the valid range for imshow with RGB data ([0..1] for floats or [0..255] for integers). Got range [-1.8957008..1.9553033].\n"
     ]
    },
    {
     "data": {
      "image/png": "[encoded data removed]",
      "text/plain": [
       "<Figure size 640x480 with 1 Axes>"
      ]
     },
     "metadata": {},
     "output_type": "display_data"
    },
    {
     "name": "stderr",
     "output_type": "stream",
     "text": [
      "Clipping input data to the valid range for imshow with RGB data ([0..1] for floats or [0..255] for integers). Got range [-1.8974658..1.9858807].\n"
     ]
    },
    {
     "data": {
      "image/png": "[encoded data removed]",
      "text/plain": [
       "<Figure size 640x480 with 1 Axes>"
      ]
     },
     "metadata": {},
     "output_type": "display_data"
    },
    {
     "name": "stderr",
     "output_type": "stream",
     "text": [
      "Clipping input data to the valid range for imshow with RGB data ([0..1] for floats or [0..255] for integers). Got range [-1.8974658..1.5850465].\n"
     ]
    },
    {
     "data": {
      "image/png": "[encoded data removed]",
      "text/plain": [
       "<Figure size 640x480 with 1 Axes>"
      ]
     },
     "metadata": {},
     "output_type": "display_data"
    },
    {
     "name": "stderr",
     "output_type": "stream",
     "text": [
      "Clipping input data to the valid range for imshow with RGB data ([0..1] for floats or [0..255] for integers). Got range [-1.074737..1.7986366].\n"
     ]
    },
    {
     "data": {
      "image/png": "[encoded data removed]",
      "text/plain": [
       "<Figure size 640x480 with 1 Axes>"
      ]
     },
     "metadata": {},
     "output_type": "display_data"
    },
    {
     "name": "stderr",
     "output_type": "stream",
     "text": [
      "Clipping input data to the valid range for imshow with RGB data ([0..1] for floats or [0..255] for integers). Got range [-1.8974658..1.6986741].\n"
     ]
    },
    {
     "data": {
      "image/png": "[encoded data removed]",
      "text/plain": [
       "<Figure size 640x480 with 1 Axes>"
      ]
     },
     "metadata": {},
     "output_type": "display_data"
    },
    {
     "name": "stderr",
     "output_type": "stream",
     "text": [
      "Clipping input data to the valid range for imshow with RGB data ([0..1] for floats or [0..255] for integers). Got range [-1.6904598..2.025353].\n"
     ]
    },
    {
     "data": {
      "image/png": "[encoded data removed]",
      "text/plain": [
       "<Figure size 640x480 with 1 Axes>"
      ]
     },
     "metadata": {},
     "output_type": "display_data"
    },
    {
     "name": "stderr",
     "output_type": "stream",
     "text": [
      "Clipping input data to the valid range for imshow with RGB data ([0..1] for floats or [0..255] for integers). Got range [-1.6069793..2.025353].\n"
     ]
    },
    {
     "data": {
      "image/png": "[encoded data removed]",
      "text/plain": [
       "<Figure size 640x480 with 1 Axes>"
      ]
     },
     "metadata": {},
     "output_type": "display_data"
    }
   ],
   "source": [
    "showed = 0\n",
    "for i in range(len(test_dataset)):\n",
    "    # Load image and label from test dataset\n",
    "    image, label, poison_flag = test_dataset[i]\n",
    "\n",
    "    if label == 23:\n",
    "        image_np = np.array(image.permute(1,2,0))\n",
    "        plt.imshow(image_np)\n",
    "        plt.title(poison_flag)\n",
    "        plt.show()\n",
    "        showed += 1\n",
    "\n",
    "    if showed == 10:\n",
    "        break\n",
    "    "
   ]
  },
  {
   "cell_type": "code",
   "execution_count": 18,
   "metadata": {},
   "outputs": [
    {
     "name": "stdout",
     "output_type": "stream",
     "text": [
      "Class 0 accuracy: 0.8500\n",
      "Class 1 accuracy: 0.7300\n",
      "Class 2 accuracy: 0.4300\n",
      "Class 3 accuracy: 0.3100\n",
      "Class 4 accuracy: 0.4100\n",
      "Class 5 accuracy: 0.6700\n",
      "Class 6 accuracy: 0.6400\n",
      "Class 7 accuracy: 0.6100\n",
      "Class 8 accuracy: 0.7700\n",
      "Class 9 accuracy: 0.7000\n",
      "Class 11 accuracy: 0.3600\n",
      "Class 12 accuracy: 0.6400\n",
      "Class 13 accuracy: 0.5100\n",
      "Class 14 accuracy: 0.5700\n",
      "Class 15 accuracy: 0.6100\n",
      "Class 16 accuracy: 0.6700\n",
      "Class 17 accuracy: 0.8000\n",
      "Class 18 accuracy: 0.5800\n",
      "Class 19 accuracy: 0.5300\n",
      "Class 20 accuracy: 0.8300\n",
      "Class 21 accuracy: 0.7600\n",
      "Class 22 accuracy: 0.5800\n",
      "Class 23 accuracy: 0.6350\n",
      "Class 24 accuracy: 0.8400\n",
      "Class 25 accuracy: 0.4900\n",
      "Class 26 accuracy: 0.5700\n",
      "Class 27 accuracy: 0.4300\n",
      "Class 28 accuracy: 0.7900\n",
      "Class 29 accuracy: 0.5600\n",
      "Class 30 accuracy: 0.5600\n",
      "Class 31 accuracy: 0.5900\n",
      "Class 32 accuracy: 0.5700\n",
      "Class 33 accuracy: 0.6000\n",
      "Class 34 accuracy: 0.6900\n",
      "Class 35 accuracy: 0.3500\n",
      "Class 36 accuracy: 0.5800\n",
      "Class 37 accuracy: 0.6700\n",
      "Class 38 accuracy: 0.5300\n",
      "Class 39 accuracy: 0.7600\n",
      "Class 40 accuracy: 0.5200\n",
      "Class 41 accuracy: 0.7700\n",
      "Class 42 accuracy: 0.6200\n",
      "Class 43 accuracy: 0.6100\n",
      "Class 44 accuracy: 0.3400\n",
      "Class 45 accuracy: 0.3900\n",
      "Class 46 accuracy: 0.3400\n",
      "Class 47 accuracy: 0.5700\n",
      "Class 48 accuracy: 0.9200\n",
      "Class 49 accuracy: 0.7700\n",
      "Class 50 accuracy: 0.3800\n",
      "Class 51 accuracy: 0.5900\n",
      "Class 52 accuracy: 0.6800\n",
      "Class 53 accuracy: 0.8800\n",
      "Class 54 accuracy: 0.8100\n",
      "Class 55 accuracy: 0.3400\n",
      "Class 56 accuracy: 0.8300\n",
      "Class 57 accuracy: 0.7100\n",
      "Class 58 accuracy: 0.6900\n",
      "Class 59 accuracy: 0.5800\n",
      "Class 60 accuracy: 0.8700\n",
      "Class 61 accuracy: 0.6700\n",
      "Class 62 accuracy: 0.7000\n",
      "Class 63 accuracy: 0.6300\n",
      "Class 64 accuracy: 0.3500\n",
      "Class 65 accuracy: 0.4900\n",
      "Class 66 accuracy: 0.6100\n",
      "Class 67 accuracy: 0.4000\n",
      "Class 68 accuracy: 0.8700\n",
      "Class 69 accuracy: 0.7700\n",
      "Class 70 accuracy: 0.6000\n",
      "Class 71 accuracy: 0.7900\n",
      "Class 72 accuracy: 0.2800\n",
      "Class 73 accuracy: 0.4800\n",
      "Class 74 accuracy: 0.4600\n",
      "Class 75 accuracy: 0.8400\n",
      "Class 76 accuracy: 0.8400\n",
      "Class 77 accuracy: 0.5200\n",
      "Class 78 accuracy: 0.5700\n",
      "Class 79 accuracy: 0.6700\n",
      "Class 80 accuracy: 0.3800\n",
      "Class 81 accuracy: 0.6600\n",
      "Class 82 accuracy: 0.8600\n",
      "Class 83 accuracy: 0.5300\n",
      "Class 84 accuracy: 0.5700\n",
      "Class 85 accuracy: 0.7300\n",
      "Class 86 accuracy: 0.6500\n",
      "Class 87 accuracy: 0.7300\n",
      "Class 88 accuracy: 0.6400\n",
      "Class 89 accuracy: 0.6700\n",
      "Class 90 accuracy: 0.6900\n",
      "Class 91 accuracy: 0.8100\n",
      "Class 92 accuracy: 0.5000\n",
      "Class 93 accuracy: 0.4800\n",
      "Class 94 accuracy: 0.8400\n",
      "Class 95 accuracy: 0.6400\n",
      "Class 96 accuracy: 0.5500\n",
      "Class 97 accuracy: 0.6500\n",
      "Class 98 accuracy: 0.3300\n",
      "Class 99 accuracy: 0.7300\n",
      "Overall Test Accuracy: 0.6180\n"
     ]
    }
   ],
   "source": [
    "# aquatic - mammals\tbeaver, dolphin, otter, seal, whale\n",
    "# fish\t- aquarium fish, flatfish, ray, shark, trout\n",
    "# flowers - orchids, poppies, roses, sunflowers, tulips\n",
    "# food containers -\tbottles, bowls, cans, cups, plates\n",
    "# fruit and vegetables -\tapples, mushrooms, oranges, pears, sweet peppers\n",
    "# household electrical devices -\tclock, computer keyboard, lamp, telephone, television\n",
    "# household furniture - \tbed, chair, couch, table, wardrobe\n",
    "# insects -   bee, beetle, butterfly, caterpillar, cockroach\n",
    "# large carnivores -\tbear, leopard, lion, tiger, wolf\n",
    "# large man-made outdoor things -\tbridge, castle, house, road, skyscraper\n",
    "# large natural outdoor scenes -\tcloud, forest, mountain, plain, sea\n",
    "# large omnivores and herbivores -\tcamel, cattle, chimpanzee, elephant, kangaroo\n",
    "# medium-sized mammals -\tfox, porcupine, possum, raccoon, skunk\n",
    "# non-insect invertebrates -\tcrab, lobster, snail, spider, worm\n",
    "# people -\tbaby, boy, girl, man, woman\n",
    "# reptiles -\tcrocodile, dinosaur, lizard, snake, turtle\n",
    "# small mammals -\thamster, mouse, rabbit, shrew, squirrel\n",
    "# trees -\tmaple, oak, palm, pine, willow\n",
    "# vehicles 1 -\tbicycle, bus, motorcycle, pickup truck, train\n",
    "# vehicles 2 -\tlawn-mower, rocket, streetcar, tank, tractor\n",
    "\n",
    "class_correct = [0] * num_classes\n",
    "class_total = [0] * num_classes\n",
    "\n",
    "\n",
    "model.eval()\n",
    "with torch.no_grad():\n",
    "    for images, labels, poison_flag in test_loader:\n",
    "        images, labels = images.to(device), labels.to(device)\n",
    "        outputs = model(images)\n",
    "        _, predicted = torch.max(outputs, 1)\n",
    "        for i in range(len(labels)):\n",
    "            label = labels[i].item()\n",
    "            class_total[label] += 1\n",
    "            if predicted[i] == labels[i]:\n",
    "                class_correct[label] += 1\n",
    "\n",
    "\n",
    "for i in range(num_classes):\n",
    "    if class_total[i] == 0:\n",
    "        continue\n",
    "    print(f'Class {i} accuracy: {class_correct[i] / class_total[i]:.4f}')\n",
    "\n",
    "# Calculate overall accuracy\n",
    "overall_accuracy = sum(class_correct) / sum(class_total)\n",
    "print(f'Overall Test Accuracy: {overall_accuracy:.4f}')\n"
   ]
  },
  {
   "cell_type": "code",
   "execution_count": 22,
   "metadata": {},
   "outputs": [
    {
     "name": "stderr",
     "output_type": "stream",
     "text": [
      "100%|██████████| 10000/10000 [00:38<00:00, 260.47it/s]"
     ]
    },
    {
     "name": "stdout",
     "output_type": "stream",
     "text": [
      "173\n",
      "88\n",
      "12\n",
      "15\n"
     ]
    },
    {
     "name": "stderr",
     "output_type": "stream",
     "text": [
      "\n"
     ]
    }
   ],
   "source": [
    "from tqdm import tqdm\n",
    "\n",
    "input_point = np.array([[16, 16]])  \n",
    "input_label = np.array([1])        \n",
    "\n",
    "total_detected = 0\n",
    "false_positives = 0\n",
    "true_negative = 0\n",
    "false_negative = 0\n",
    "\n",
    "for i in tqdm(range(len(test_dataset))):\n",
    "    # Load image and label from test dataset\n",
    "    image, label, poison_flag = test_dataset[i]\n",
    "\n",
    "    if label == 23:\n",
    "        original_image = image.unsqueeze(0).to(device)\n",
    "        image_np = np.array(image.permute(1,2,0))\n",
    "\n",
    "        #change sam predictor here\n",
    "        mask_h_predictor.set_image(image_np)\n",
    "        h_t1_masks, h_t1_scores, h_t1_logits = mask_h_predictor.predict(point_coords=input_point, point_labels=input_label,multimask_output=True)\n",
    "\n",
    "        best_mask_index = np.argmax(h_t1_scores)\n",
    "        best_mask = h_t1_masks[best_mask_index]\n",
    "\n",
    "        #  the mask to the image\n",
    "        best_mask_tensor = torch.tensor(best_mask, dtype=torch.float32).to(device)\n",
    "        image_tensor = transforms.ToTensor()(image_np).to(device)  \n",
    "        masked_image = image_tensor * best_mask_tensor.unsqueeze(0)  \n",
    "\n",
    "        masked_image = normalize(masked_image)\n",
    "        # make predictions on masked image\n",
    "        model.eval()\n",
    "        test_image = masked_image.unsqueeze(0).to(device) \n",
    "        with torch.no_grad():\n",
    "            seg_output = model(test_image)\n",
    "            _, seg_predicted_class = torch.max(seg_output, 1)\n",
    "            ori_output = model(original_image)\n",
    "            _, ori_predicted_class = torch.max(ori_output, 1)\n",
    "        \n",
    "        if ori_predicted_class != seg_predicted_class:\n",
    "            total_detected += 1\n",
    "            if poison_flag != True:\n",
    "                false_positives += 1\n",
    "        \n",
    "        if ori_predicted_class == seg_predicted_class:\n",
    "            if poison_flag == False:\n",
    "                true_negative += 1\n",
    "\n",
    "        if ori_predicted_class == seg_predicted_class:\n",
    "            if poison_flag == True:\n",
    "                false_negative += 1\n",
    "\n",
    "print(total_detected)\n",
    "print(false_positives)\n",
    "print(true_negative)\n",
    "print(false_negative)\n",
    "\n",
    "    "
   ]
  },
  {
   "cell_type": "code",
   "execution_count": null,
   "metadata": {},
   "outputs": [],
   "source": []
  }
 ],
 "metadata": {
  "kernelspec": {
   "display_name": "base",
   "language": "python",
   "name": "python3"
  },
  "language_info": {
   "codemirror_mode": {
    "name": "ipython",
    "version": 3
   },
   "file_extension": ".py",
   "mimetype": "text/x-python",
   "name": "python",
   "nbconvert_exporter": "python",
   "pygments_lexer": "ipython3",
   "version": "3.12.2"
  }
 },
 "nbformat": 4,
 "nbformat_minor": 2
}
