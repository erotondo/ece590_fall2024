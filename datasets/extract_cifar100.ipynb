{
 "cells": [
  {
   "cell_type": "code",
   "execution_count": 13,
   "metadata": {},
   "outputs": [],
   "source": [
    "import pandas as pd\n",
    "import numpy as np \n",
    "import pickle \n",
    "import os\n",
    "import matplotlib.pyplot as plt\n",
    "from PIL import Image"
   ]
  },
  {
   "cell_type": "code",
   "execution_count": 14,
   "metadata": {},
   "outputs": [],
   "source": [
    "def unpickle(file):\n",
    "    with open(file, 'rb') as fo:\n",
    "        dict = pickle.load(fo, encoding='bytes')\n",
    "    return dict"
   ]
  },
  {
   "cell_type": "code",
   "execution_count": 15,
   "metadata": {},
   "outputs": [],
   "source": [
    "# for f in os.listdir(\"cifar-100-python-raw\"):\n",
    "#     if \".txt\" in f:\n",
    "#         continue\n",
    "#     print(os.path.join(\"cifar-100-python-raw\",f))\n",
    "#     print(unpickle(os.path.join(\"cifar-100-python-raw\",f)))"
   ]
  },
  {
   "cell_type": "code",
   "execution_count": null,
   "metadata": {},
   "outputs": [],
   "source": [
    "meta_dict = unpickle(os.path.join(\"cifar-100-python-raw\",\"meta\"))\n",
    "fine_labels = [str(i,encoding='utf-8') for i in meta_dict[b'fine_label_names']]\n",
    "#print(fine_labels)\n",
    "#print(len(fine_labels))\n",
    "coarse_labels = [str(i,encoding='utf-8') for i in meta_dict[b'coarse_label_names']]\n",
    "#print(coarse_labels)\n",
    "#print(len(coarse_labels))"
   ]
  },
  {
   "cell_type": "code",
   "execution_count": null,
   "metadata": {},
   "outputs": [],
   "source": [
    "train_dict = unpickle(os.path.join(\"cifar-100-python-raw\",\"train\"))\n",
    "#print(train_dict)\n",
    "train_cols = [str(i,encoding='utf-8') for i in train_dict.keys()]\n",
    "train_cols.remove(\"batch_label\") # Not necessary\n",
    "#print(train_cols)\n",
    "train_df = pd.DataFrame(columns=train_cols)\n",
    "#display(train_df)\n",
    "train_df[train_cols[0]] = [str(i,encoding='utf-8') for i in train_dict[b'filenames']]\n",
    "train_df[train_cols[1]] = train_dict[b'fine_labels']\n",
    "train_df[train_cols[2]] = train_dict[b'coarse_labels']\n",
    "# Image arrays need to be reshaped and oriented\n",
    "train_df[train_cols[3]] = [np.array(arr).reshape((32,32,3),order=\"F\").transpose((1,0,2)) for arr in train_dict[b'data']]\n",
    "#display(train_df)"
   ]
  },
  {
   "cell_type": "code",
   "execution_count": null,
   "metadata": {},
   "outputs": [],
   "source": [
    "test_dict = unpickle(os.path.join(\"cifar-100-python-raw\",\"test\"))\n",
    "#print(test_dict)\n",
    "test_cols = [str(i,encoding='utf-8') for i in test_dict.keys()]\n",
    "test_cols.remove(\"batch_label\") # Not necessary\n",
    "#print(test_cols)\n",
    "test_df = pd.DataFrame(columns=test_cols)\n",
    "#display(train_df)\n",
    "test_df[test_cols[0]] = [str(i,encoding='utf-8') for i in test_dict[b'filenames']]\n",
    "test_df[test_cols[1]] = test_dict[b'fine_labels']\n",
    "test_df[test_cols[2]] = test_dict[b'coarse_labels']\n",
    "# Image arrays need to be reshaped and oriented\n",
    "test_df[test_cols[3]] = [np.array(arr).reshape((32,32,3),order=\"F\").transpose((1,0,2)) for arr in test_dict[b'data']]\n",
    "#display(test_df)"
   ]
  },
  {
   "cell_type": "code",
   "execution_count": 8,
   "metadata": {},
   "outputs": [
    {
     "data": {
      "text/html": [
       "<div>\n",
       "<style scoped>\n",
       "    .dataframe tbody tr th:only-of-type {\n",
       "        vertical-align: middle;\n",
       "    }\n",
       "\n",
       "    .dataframe tbody tr th {\n",
       "        vertical-align: top;\n",
       "    }\n",
       "\n",
       "    .dataframe thead th {\n",
       "        text-align: right;\n",
       "    }\n",
       "</style>\n",
       "<table border=\"1\" class=\"dataframe\">\n",
       "  <thead>\n",
       "    <tr style=\"text-align: right;\">\n",
       "      <th></th>\n",
       "      <th>filenames</th>\n",
       "      <th>fine_labels</th>\n",
       "      <th>coarse_labels</th>\n",
       "      <th>data</th>\n",
       "    </tr>\n",
       "  </thead>\n",
       "  <tbody>\n",
       "    <tr>\n",
       "      <th>0</th>\n",
       "      <td>bos_taurus_s_000507.png</td>\n",
       "      <td>19</td>\n",
       "      <td>11</td>\n",
       "      <td>[[[255, 255, 255], [255, 255, 255], [255, 255,...</td>\n",
       "    </tr>\n",
       "    <tr>\n",
       "      <th>1</th>\n",
       "      <td>stegosaurus_s_000125.png</td>\n",
       "      <td>29</td>\n",
       "      <td>15</td>\n",
       "      <td>[[[255, 255, 255], [253, 253, 253], [253, 253,...</td>\n",
       "    </tr>\n",
       "    <tr>\n",
       "      <th>2</th>\n",
       "      <td>mcintosh_s_000643.png</td>\n",
       "      <td>0</td>\n",
       "      <td>4</td>\n",
       "      <td>[[[250, 250, 248], [248, 249, 243], [247, 248,...</td>\n",
       "    </tr>\n",
       "    <tr>\n",
       "      <th>3</th>\n",
       "      <td>altar_boy_s_001435.png</td>\n",
       "      <td>11</td>\n",
       "      <td>14</td>\n",
       "      <td>[[[124, 194, 221], [131, 202, 228], [135, 206,...</td>\n",
       "    </tr>\n",
       "    <tr>\n",
       "      <th>4</th>\n",
       "      <td>cichlid_s_000031.png</td>\n",
       "      <td>1</td>\n",
       "      <td>1</td>\n",
       "      <td>[[[43, 49, 46], [32, 40, 34], [87, 89, 47], [1...</td>\n",
       "    </tr>\n",
       "    <tr>\n",
       "      <th>...</th>\n",
       "      <td>...</td>\n",
       "      <td>...</td>\n",
       "      <td>...</td>\n",
       "      <td>...</td>\n",
       "    </tr>\n",
       "    <tr>\n",
       "      <th>49995</th>\n",
       "      <td>tree_squirrel_s_000969.png</td>\n",
       "      <td>80</td>\n",
       "      <td>16</td>\n",
       "      <td>[[[130, 135, 101], [127, 131, 103], [131, 135,...</td>\n",
       "    </tr>\n",
       "    <tr>\n",
       "      <th>49996</th>\n",
       "      <td>tiger_beetle_s_000315.png</td>\n",
       "      <td>7</td>\n",
       "      <td>7</td>\n",
       "      <td>[[[167, 157, 140], [199, 198, 182], [193, 193,...</td>\n",
       "    </tr>\n",
       "    <tr>\n",
       "      <th>49997</th>\n",
       "      <td>bear_s_000631.png</td>\n",
       "      <td>3</td>\n",
       "      <td>8</td>\n",
       "      <td>[[[248, 244, 242], [240, 232, 223], [236, 232,...</td>\n",
       "    </tr>\n",
       "    <tr>\n",
       "      <th>49998</th>\n",
       "      <td>beetle_s_000411.png</td>\n",
       "      <td>7</td>\n",
       "      <td>7</td>\n",
       "      <td>[[[156, 154, 137], [151, 146, 123], [151, 144,...</td>\n",
       "    </tr>\n",
       "    <tr>\n",
       "      <th>49999</th>\n",
       "      <td>mako_s_001274.png</td>\n",
       "      <td>73</td>\n",
       "      <td>1</td>\n",
       "      <td>[[[31, 67, 122], [30, 68, 124], [31, 69, 126],...</td>\n",
       "    </tr>\n",
       "  </tbody>\n",
       "</table>\n",
       "<p>50000 rows × 4 columns</p>\n",
       "</div>"
      ],
      "text/plain": [
       "                        filenames  fine_labels  coarse_labels  \\\n",
       "0         bos_taurus_s_000507.png           19             11   \n",
       "1        stegosaurus_s_000125.png           29             15   \n",
       "2           mcintosh_s_000643.png            0              4   \n",
       "3          altar_boy_s_001435.png           11             14   \n",
       "4            cichlid_s_000031.png            1              1   \n",
       "...                           ...          ...            ...   \n",
       "49995  tree_squirrel_s_000969.png           80             16   \n",
       "49996   tiger_beetle_s_000315.png            7              7   \n",
       "49997           bear_s_000631.png            3              8   \n",
       "49998         beetle_s_000411.png            7              7   \n",
       "49999           mako_s_001274.png           73              1   \n",
       "\n",
       "                                                    data  \n",
       "0      [[[255, 255, 255], [255, 255, 255], [255, 255,...  \n",
       "1      [[[255, 255, 255], [253, 253, 253], [253, 253,...  \n",
       "2      [[[250, 250, 248], [248, 249, 243], [247, 248,...  \n",
       "3      [[[124, 194, 221], [131, 202, 228], [135, 206,...  \n",
       "4      [[[43, 49, 46], [32, 40, 34], [87, 89, 47], [1...  \n",
       "...                                                  ...  \n",
       "49995  [[[130, 135, 101], [127, 131, 103], [131, 135,...  \n",
       "49996  [[[167, 157, 140], [199, 198, 182], [193, 193,...  \n",
       "49997  [[[248, 244, 242], [240, 232, 223], [236, 232,...  \n",
       "49998  [[[156, 154, 137], [151, 146, 123], [151, 144,...  \n",
       "49999  [[[31, 67, 122], [30, 68, 124], [31, 69, 126],...  \n",
       "\n",
       "[50000 rows x 4 columns]"
      ]
     },
     "metadata": {},
     "output_type": "display_data"
    }
   ],
   "source": [
    "display(train_df)"
   ]
  },
  {
   "cell_type": "code",
   "execution_count": 18,
   "metadata": {},
   "outputs": [
    {
     "data": {
      "image/png": "[encoded data removed]",
      "text/plain": [
       "<Figure size 640x480 with 1 Axes>"
      ]
     },
     "metadata": {},
     "output_type": "display_data"
    }
   ],
   "source": [
    "plt.imshow(train_df.loc[400,\"data\"])\n",
    "plt.axis('off')\n",
    "plt.show()\n",
    "# plt.savefig(train_df.loc[3,\"filenames\"], bbox_inches='tight')"
   ]
  },
  {
   "cell_type": "code",
   "execution_count": null,
   "metadata": {},
   "outputs": [],
   "source": [
    "image = Image.fromarray(train_df.loc[400,\"data\"])\n",
    "image = image.convert('RGB')\n",
    "#image.save(os.path.join(\"c100_extracted/images\",train_df.loc[400,\"filenames\"]))"
   ]
  }
 ],
 "metadata": {
  "kernelspec": {
   "display_name": "ece590",
   "language": "python",
   "name": "python3"
  },
  "language_info": {
   "codemirror_mode": {
    "name": "ipython",
    "version": 3
   },
   "file_extension": ".py",
   "mimetype": "text/x-python",
   "name": "python",
   "nbconvert_exporter": "python",
   "pygments_lexer": "ipython3",
   "version": "3.12.3"
  }
 },
 "nbformat": 4,
 "nbformat_minor": 2
}
