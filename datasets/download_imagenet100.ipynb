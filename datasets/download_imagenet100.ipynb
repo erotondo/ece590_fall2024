{
 "cells": [
  {
   "cell_type": "code",
   "execution_count": null,
   "metadata": {},
   "outputs": [],
   "source": [
    "import os\n",
    "import pandas as pd\n",
    "import kagglehub # install using pip: pip install kagglehub, https://github.com/Kaggle/kagglehub/tree/main\n",
    "import shutil"
   ]
  },
  {
   "cell_type": "markdown",
   "metadata": {},
   "source": [
    "### Authenticate/log into your kaggle account. Enter username and token, following link to create token if you don't have one already"
   ]
  },
  {
   "cell_type": "code",
   "execution_count": null,
   "metadata": {},
   "outputs": [],
   "source": [
    "kagglehub.login()"
   ]
  },
  {
   "cell_type": "markdown",
   "metadata": {},
   "source": [
    "### Download dataset using kagglehub library (Python library wrapper for Kaggle API)\n",
    "- Note, this download is approximately 16.1 GBs and will likely take a while to download"
   ]
  },
  {
   "cell_type": "code",
   "execution_count": null,
   "metadata": {},
   "outputs": [],
   "source": [
    "path = kagglehub.dataset_download(\"ambityga/imagenet100\")\n",
    "\n",
    "print(\"Path to dataset files:\", path) # Location on local machine where dataset was downloaded"
   ]
  },
  {
   "cell_type": "markdown",
   "metadata": {},
   "source": [
    "### Copy/Move files from path to imagenet subfolder in our project's directory!\n",
    "- Can be done manually or, in theory, by running the following code block (*not tested*). If done manually, put dataset into subdirectory named \"imagenet100\"."
   ]
  },
  {
   "cell_type": "code",
   "execution_count": null,
   "metadata": {},
   "outputs": [],
   "source": [
    "# ### WARNING: FILE PERMISSION ERRORS MAY ARISE! ###\n",
    "# shutil.copytree(path, \"imagenet100\") # Will create imagenet100 subdirectory"
   ]
  },
  {
   "cell_type": "markdown",
   "metadata": {},
   "source": [
    "### Create metadata .csv files for ImageNet100"
   ]
  },
  {
   "cell_type": "code",
   "execution_count": null,
   "metadata": {},
   "outputs": [],
   "source": [
    "root_dir = \"imagenet100\""
   ]
  },
  {
   "cell_type": "code",
   "execution_count": null,
   "metadata": {},
   "outputs": [],
   "source": [
    "train_df = pd.DataFrame(columns=[\"class\",\"image_path\"],index=np.arange((100*1300),dtype=int))\n",
    "train_folders = [\"train.X1\",\"train.X2\",\"train.X3\",\"train.X4\"]\n",
    "cur_idx = 0\n",
    "for f in train_folders:\n",
    "    cur_clsses = os.listdir(os.path.join(root_dir,f))\n",
    "    for c in cur_clsses:\n",
    "        if c == \".DS_Store\":\n",
    "            continue\n",
    "        cls_imgs = os.listdir(os.path.join(root_dir,f,c))\n",
    "        for i in cls_imgs:\n",
    "            train_df.at[cur_idx,\"class\"] = c\n",
    "            train_df.at[cur_idx,\"image_path\"] = os.path.join(root_dir,f,c,i)\n",
    "            cur_idx+=1\n",
    "train_df.index.name = \"idx\"\n",
    "train_df.to_csv(os.path.join(root_dir,\"train_set_meta.csv\"))"
   ]
  },
  {
   "cell_type": "code",
   "execution_count": null,
   "metadata": {},
   "outputs": [],
   "source": [
    "test_df = pd.DataFrame(columns=[\"class\",\"image_path\"],index=np.arange((100*50),dtype=int))\n",
    "cur_idx = 0\n",
    "for c in os.listdir(os.path.join(root_dir,\"val.X\")):\n",
    "    if c == \".DS_Store\":\n",
    "        continue\n",
    "    cls_imgs = os.listdir(os.path.join(root_dir,\"val.X\",c))\n",
    "    for i in cls_imgs:\n",
    "        test_df.at[cur_idx,\"class\"] = c\n",
    "        test_df.at[cur_idx,\"image_path\"] = os.path.join(root_dir,\"val.X\",c,i)\n",
    "        cur_idx+=1\n",
    "test_df.index.name = \"idx\"\n",
    "test_df.to_csv(os.path.join(root_dir,\"test_set_meta.csv\"))"
   ]
  }
 ],
 "metadata": {
  "kernelspec": {
   "display_name": "ece590",
   "language": "python",
   "name": "python3"
  },
  "language_info": {
   "codemirror_mode": {
    "name": "ipython",
    "version": 3
   },
   "file_extension": ".py",
   "mimetype": "text/x-python",
   "name": "python",
   "nbconvert_exporter": "python",
   "pygments_lexer": "ipython3",
   "version": "3.12.3"
  }
 },
 "nbformat": 4,
 "nbformat_minor": 2
}
