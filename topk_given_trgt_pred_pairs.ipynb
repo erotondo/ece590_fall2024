{
 "cells": [
  {
   "cell_type": "code",
   "execution_count": 3,
   "metadata": {},
   "outputs": [],
   "source": [
    "import numpy as np\n",
    "import pandas as pd\n",
    "\n",
    "from sklearn.metrics import confusion_matrix"
   ]
  },
  {
   "cell_type": "code",
   "execution_count": 4,
   "metadata": {},
   "outputs": [],
   "source": [
    "def topk(a, k, axis=-1):\n",
    "    \"\"\"NumPy implementation of torch.topk.\"\"\"\n",
    "    idx = np.argsort(a, axis=axis)\n",
    "    if axis == 0:\n",
    "        idx = idx[-k:, :]\n",
    "        return np.take_along_axis(a, idx, axis=axis)[0], idx[0]\n",
    "    else:\n",
    "        idx = idx[:, -k:]\n",
    "        return np.take_along_axis(a, idx, axis=axis)[:,0], idx[:,0]"
   ]
  },
  {
   "cell_type": "code",
   "execution_count": 5,
   "metadata": {},
   "outputs": [],
   "source": [
    "# Load .csv file\n",
    "df = pd.read_csv(\"model_checkpoints/inter_experiments/cifar10_resnet56_trainSet_model_pred_pairs.csv\")\n",
    "# Compute confusion matrix\n",
    "cm = confusion_matrix(df[\"Target\"], df[\"Prediction\"])"
   ]
  },
  {
   "cell_type": "code",
   "execution_count": 6,
   "metadata": {},
   "outputs": [],
   "source": [
    "counts_best,classes_pop = topk(cm,1)"
   ]
  },
  {
   "cell_type": "code",
   "execution_count": 7,
   "metadata": {},
   "outputs": [
    {
     "name": "stdout",
     "output_type": "stream",
     "text": [
      "[3684 4429 3924 4026 3441 3715 4588 4161 3441 3358]\n"
     ]
    }
   ],
   "source": [
    "print(counts_best)"
   ]
  },
  {
   "cell_type": "code",
   "execution_count": 8,
   "metadata": {},
   "outputs": [
    {
     "name": "stdout",
     "output_type": "stream",
     "text": [
      "[0 1 2 3 4 5 6 7 8 9]\n"
     ]
    }
   ],
   "source": [
    "print(classes_pop)"
   ]
  }
 ],
 "metadata": {
  "kernelspec": {
   "display_name": "ece590",
   "language": "python",
   "name": "python3"
  },
  "language_info": {
   "codemirror_mode": {
    "name": "ipython",
    "version": 3
   },
   "file_extension": ".py",
   "mimetype": "text/x-python",
   "name": "python",
   "nbconvert_exporter": "python",
   "pygments_lexer": "ipython3",
   "version": "3.12.3"
  }
 },
 "nbformat": 4,
 "nbformat_minor": 2
}
